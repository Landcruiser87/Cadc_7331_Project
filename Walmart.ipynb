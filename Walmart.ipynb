{
 "cells": [
  {
   "cell_type": "code",
   "execution_count": null,
   "metadata": {
    "collapsed": true
   },
   "outputs": [],
   "source": []
  },
  {
   "cell_type": "markdown",
   "source": [
    "# The Wonderful World of Walmart\n",
    "\n",
    "This notebook begins to explore the retail sales of Walmart over a time period of.  INSERT TIME PERIOD.\n",
    "We will be predicting sales price per store. \n",
    "\n",
    "The data source is below\n",
    "\n",
    "https://www.kaggle.com/c/walmart-recruiting-store-sales-forecasting/data\n",
    "\n",
    "First things first, lets import and take a peek at our data.\n"
   ],
   "metadata": {
    "collapsed": false
   }
  },
  {
   "cell_type": "code",
   "execution_count": 5,
   "outputs": [
    {
     "name": "stdout",
     "text": [
      "<class 'pandas.core.frame.DataFrame'>\nInt64Index: 8190 entries, 0 to 8189\nData columns (total 14 columns):\nStore           8190 non-null int64\nDate            8190 non-null object\nTemperature     8190 non-null float64\nFuel_Price      8190 non-null float64\nMarkDown1       4032 non-null float64\nMarkDown2       2921 non-null float64\nMarkDown3       3613 non-null float64\nMarkDown4       3464 non-null float64\nMarkDown5       4050 non-null float64\nCPI             7605 non-null float64\nUnemployment    7605 non-null float64\nIsHoliday       8190 non-null bool\nType            8190 non-null object\nSize            8190 non-null int64\ndtypes: bool(1), float64(9), int64(2), object(2)\nmemory usage: 903.8+ KB\nNone\n             Store  Temperature   Fuel_Price      MarkDown1      MarkDown2  \\\ncount  8190.000000  8190.000000  8190.000000    4032.000000    2921.000000   \nmean     23.000000    59.356198     3.405992    7032.371786    3384.176594   \nstd      12.987966    18.678607     0.431337    9262.747448    8793.583016   \nmin       1.000000    -7.290000     2.472000   -2781.450000    -265.760000   \n25%      12.000000    45.902500     3.041000    1577.532500      68.880000   \n50%      23.000000    60.710000     3.513000    4743.580000     364.570000   \n75%      34.000000    73.880000     3.743000    8923.310000    2153.350000   \nmax      45.000000   101.950000     4.468000  103184.980000  104519.540000   \n\n           MarkDown3     MarkDown4      MarkDown5          CPI  Unemployment  \\\ncount    3613.000000   3464.000000    4050.000000  7605.000000   7605.000000   \nmean     1760.100180   3292.935886    4132.216422   172.460809      7.826821   \nstd     11276.462208   6792.329861   13086.690278    39.738346      1.877259   \nmin      -179.260000      0.220000    -185.170000   126.064000      3.684000   \n25%         6.600000    304.687500    1440.827500   132.364839      6.634000   \n50%        36.260000   1176.425000    2727.135000   182.764003      7.806000   \n75%       163.150000   3310.007500    4832.555000   213.932412      8.567000   \nmax    149483.310000  67474.850000  771448.100000   228.976456     14.313000   \n\n                Size  \ncount    8190.000000  \nmean   130287.600000  \nstd     63115.971429  \nmin     34875.000000  \n25%     70713.000000  \n50%    126512.000000  \n75%    202307.000000  \nmax    219622.000000  \n"
     ],
     "output_type": "stream"
    }
   ],
   "source": [
    "import pandas as pd\n",
    "\n",
    "\n",
    "train = pd.read_csv('Data/train.csv') # read in the training data\n",
    "feat = pd.read_csv('Data/features.csv') # read in the feature data\n",
    "stores = pd.read_csv('Data/stores.csv') # read in the stores data\n",
    "\n",
    "df = pd.merge(feat, stores, on='Store')\n",
    "\n",
    "print(df.info())\n",
    "print(df.describe())\n",
    "\n",
    "\n",
    "\n"
   ],
   "metadata": {
    "collapsed": false,
    "pycharm": {
     "name": "#%%\n",
     "is_executing": false
    }
   }
  }
 ],
 "metadata": {
  "language_info": {
   "codemirror_mode": {
    "name": "ipython",
    "version": 2
   },
   "file_extension": ".py",
   "mimetype": "text/x-python",
   "name": "python",
   "nbconvert_exporter": "python",
   "pygments_lexer": "ipython2",
   "version": "2.7.6"
  },
  "kernelspec": {
   "name": "python3",
   "language": "python",
   "display_name": "Python 3"
  },
  "pycharm": {
   "stem_cell": {
    "cell_type": "raw",
    "source": [],
    "metadata": {
     "collapsed": false
    }
   }
  }
 },
 "nbformat": 4,
 "nbformat_minor": 0
}