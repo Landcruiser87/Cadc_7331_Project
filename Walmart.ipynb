{
 "cells": [
  {
   "cell_type": "markdown",
   "source": [
    "# The Wonderful World of Walmart\n",
    "\n",
    "This notebook begins to explore the retail sales of Walmart over a time period of.  INSERT TIME PERIOD.\n",
    "We will be predicting sales price per store. \n",
    "\n",
    "The data source is below\n",
    "\n",
    "https://www.kaggle.com/c/walmart-recruiting-store-sales-forecasting/data\n",
    "\n",
    "First things first, lets import and take a peek at our data.\n"
   ],
   "metadata": {
    "collapsed": false
   }
  },
  {
   "cell_type": "code",
   "execution_count": null,
   "outputs": [
    {
     "name": "stdout",
     "text": [
      "<class 'pandas.core.frame.DataFrame'>\nInt64Index: 76725740 entries, 0 to 76725739\nData columns (total 18 columns):\nStore           int64\nDept            int64\nDate_x          object\nWeekly_Sales    float64\nIsHoliday_x     bool\nType            object\nSize            int64\nDate_y          object\nTemperature     float64\nFuel_Price      float64\nMarkDown1       float64\nMarkDown2       float64\nMarkDown3       float64\nMarkDown4       float64\nMarkDown5       float64\nCPI             float64\nUnemployment    float64\nIsHoliday_y     bool\ndtypes: bool(2), float64(10), int64(3), object(3)\nmemory usage: 9.9+ GB\n"
     ],
     "output_type": "stream"
    }
   ],
   "source": [
    "import pandas as pd\n",
    "\n",
    "train = pd.read_csv('Data/train.csv', sep = ',') # read in the training data \n",
    "feat = pd.read_csv('Data/features.csv', sep = ',') # Read in feature Data\n",
    "stores = pd.read_csv('Data/stores.csv', sep = ',') # read in the store data \n",
    "df = train.merge(stores, on='Store', how='left').merge(feat, on='Store', how='left')\n",
    "\n",
    "df.info()\n"
   ],
   "metadata": {
    "collapsed": false,
    "pycharm": {
     "name": "#%%\n",
     "is_executing": true
    }
   }
  },
  {
   "cell_type": "markdown",
   "source": [
    "Now that we've got some basics down, how big of a dataset are we looking at here. \n"
   ],
   "metadata": {
    "collapsed": false
   }
  }
 ],
 "metadata": {
  "language_info": {
   "codemirror_mode": {
    "name": "ipython",
    "version": 2
   },
   "file_extension": ".py",
   "mimetype": "text/x-python",
   "name": "python",
   "nbconvert_exporter": "python",
   "pygments_lexer": "ipython2",
   "version": "2.7.6"
  },
  "kernelspec": {
   "name": "conda-env-miner-py",
   "language": "python",
   "display_name": "Python [conda env:miner] *"
  },
  "pycharm": {
   "stem_cell": {
    "cell_type": "raw",
    "source": [],
    "metadata": {
     "collapsed": false
    }
   }
  }
 },
 "nbformat": 4,
 "nbformat_minor": 0
}