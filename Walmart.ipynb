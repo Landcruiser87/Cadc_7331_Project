{
 "cells": [
  {
   "cell_type": "code",
   "execution_count": null,
   "metadata": {
    "collapsed": true
   },
   "outputs": [],
   "source": []
  },
  {
   "cell_type": "markdown",
   "source": [
    "# The Wonderful World of Walmart\n",
    "\n",
    "This notebook begins to explore the retail sales of Walmart over a time period of.  INSERT TIME PERIOD.\n",
    "We will be predicting sales price per store. \n",
    "\n",
    "The data source is below\n",
    "\n",
    "https://www.kaggle.com/c/walmart-recruiting-store-sales-forecasting/data\n",
    "\n",
    "First things first, lets import and take a peek at our data.\n"
   ],
   "metadata": {
    "collapsed": false
   }
  },
  {
   "cell_type": "code",
   "execution_count": 19,
   "outputs": [
    {
     "data": {
      "text/plain": "              Store          Dept  Weekly_Sales          Size   Temperature  \\\ncount  7.672574e+07  7.672574e+07  7.672574e+07  7.672574e+07  7.672574e+07   \nmean   2.220055e+01  4.426032e+01  1.598126e+04  1.367279e+05  5.882304e+01   \nstd    1.278528e+01  3.049202e+01  2.271116e+04  6.098051e+04  1.868010e+01   \nmin    1.000000e+00  1.000000e+00 -4.988940e+03  3.487500e+04 -7.290000e+00   \n25%    1.100000e+01  1.800000e+01  2.079640e+03  9.363800e+04  4.529000e+01   \n50%    2.200000e+01  3.700000e+01  7.612030e+03  1.401670e+05  6.009000e+01   \n75%    3.300000e+01  7.400000e+01  2.020586e+04  2.025050e+05  7.329000e+01   \nmax    4.500000e+01  9.900000e+01  6.930994e+05  2.196220e+05  1.019500e+02   \n\n         Fuel_Price     MarkDown1     MarkDown2     MarkDown3     MarkDown4  \\\ncount  7.672574e+07  3.781689e+07  2.818783e+07  3.451586e+07  3.381724e+07   \nmean   3.407146e+00  7.457850e+03  3.500417e+03  1.839121e+03  3.374053e+03   \nstd    4.311720e-01  9.419648e+03  8.973004e+03  1.156095e+04  6.872273e+03   \nmin    2.472000e+00 -2.781450e+03 -2.657600e+02 -1.792600e+02  2.200000e-01   \n25%    3.039000e+00  2.140480e+03  7.264000e+01  7.240000e+00  3.402600e+02   \n50%    3.521000e+00  5.140440e+03  3.853100e+02  4.093000e+01  1.241570e+03   \n75%    3.743000e+00  9.329340e+03  2.375990e+03  1.743300e+02  3.398660e+03   \nmax    4.468000e+00  1.031850e+05  1.045195e+05  1.494833e+05  6.747485e+04   \n\n          MarkDown5           CPI  Unemployment  \ncount  3.794130e+07  7.124533e+07  7.124533e+07  \nmean   4.328905e+03  1.720654e+02  7.795690e+00  \nstd    1.355441e+04  3.953475e+01  1.866116e+00  \nmin   -1.851700e+02  1.260640e+02  3.684000e+00  \n25%    1.575610e+03  1.325219e+02  6.623000e+00  \n50%    2.875460e+03  1.824415e+02  7.804000e+00  \n75%    5.024010e+03  2.137176e+02  8.549000e+00  \nmax    7.714481e+05  2.289765e+02  1.431300e+01  ",
      "text/html": "<div>\n<style scoped>\n    .dataframe tbody tr th:only-of-type {\n        vertical-align: middle;\n    }\n\n    .dataframe tbody tr th {\n        vertical-align: top;\n    }\n\n    .dataframe thead th {\n        text-align: right;\n    }\n</style>\n<table border=\"1\" class=\"dataframe\">\n  <thead>\n    <tr style=\"text-align: right;\">\n      <th></th>\n      <th>Store</th>\n      <th>Dept</th>\n      <th>Weekly_Sales</th>\n      <th>Size</th>\n      <th>Temperature</th>\n      <th>Fuel_Price</th>\n      <th>MarkDown1</th>\n      <th>MarkDown2</th>\n      <th>MarkDown3</th>\n      <th>MarkDown4</th>\n      <th>MarkDown5</th>\n      <th>CPI</th>\n      <th>Unemployment</th>\n    </tr>\n  </thead>\n  <tbody>\n    <tr>\n      <th>count</th>\n      <td>7.672574e+07</td>\n      <td>7.672574e+07</td>\n      <td>7.672574e+07</td>\n      <td>7.672574e+07</td>\n      <td>7.672574e+07</td>\n      <td>7.672574e+07</td>\n      <td>3.781689e+07</td>\n      <td>2.818783e+07</td>\n      <td>3.451586e+07</td>\n      <td>3.381724e+07</td>\n      <td>3.794130e+07</td>\n      <td>7.124533e+07</td>\n      <td>7.124533e+07</td>\n    </tr>\n    <tr>\n      <th>mean</th>\n      <td>2.220055e+01</td>\n      <td>4.426032e+01</td>\n      <td>1.598126e+04</td>\n      <td>1.367279e+05</td>\n      <td>5.882304e+01</td>\n      <td>3.407146e+00</td>\n      <td>7.457850e+03</td>\n      <td>3.500417e+03</td>\n      <td>1.839121e+03</td>\n      <td>3.374053e+03</td>\n      <td>4.328905e+03</td>\n      <td>1.720654e+02</td>\n      <td>7.795690e+00</td>\n    </tr>\n    <tr>\n      <th>std</th>\n      <td>1.278528e+01</td>\n      <td>3.049202e+01</td>\n      <td>2.271116e+04</td>\n      <td>6.098051e+04</td>\n      <td>1.868010e+01</td>\n      <td>4.311720e-01</td>\n      <td>9.419648e+03</td>\n      <td>8.973004e+03</td>\n      <td>1.156095e+04</td>\n      <td>6.872273e+03</td>\n      <td>1.355441e+04</td>\n      <td>3.953475e+01</td>\n      <td>1.866116e+00</td>\n    </tr>\n    <tr>\n      <th>min</th>\n      <td>1.000000e+00</td>\n      <td>1.000000e+00</td>\n      <td>-4.988940e+03</td>\n      <td>3.487500e+04</td>\n      <td>-7.290000e+00</td>\n      <td>2.472000e+00</td>\n      <td>-2.781450e+03</td>\n      <td>-2.657600e+02</td>\n      <td>-1.792600e+02</td>\n      <td>2.200000e-01</td>\n      <td>-1.851700e+02</td>\n      <td>1.260640e+02</td>\n      <td>3.684000e+00</td>\n    </tr>\n    <tr>\n      <th>25%</th>\n      <td>1.100000e+01</td>\n      <td>1.800000e+01</td>\n      <td>2.079640e+03</td>\n      <td>9.363800e+04</td>\n      <td>4.529000e+01</td>\n      <td>3.039000e+00</td>\n      <td>2.140480e+03</td>\n      <td>7.264000e+01</td>\n      <td>7.240000e+00</td>\n      <td>3.402600e+02</td>\n      <td>1.575610e+03</td>\n      <td>1.325219e+02</td>\n      <td>6.623000e+00</td>\n    </tr>\n    <tr>\n      <th>50%</th>\n      <td>2.200000e+01</td>\n      <td>3.700000e+01</td>\n      <td>7.612030e+03</td>\n      <td>1.401670e+05</td>\n      <td>6.009000e+01</td>\n      <td>3.521000e+00</td>\n      <td>5.140440e+03</td>\n      <td>3.853100e+02</td>\n      <td>4.093000e+01</td>\n      <td>1.241570e+03</td>\n      <td>2.875460e+03</td>\n      <td>1.824415e+02</td>\n      <td>7.804000e+00</td>\n    </tr>\n    <tr>\n      <th>75%</th>\n      <td>3.300000e+01</td>\n      <td>7.400000e+01</td>\n      <td>2.020586e+04</td>\n      <td>2.025050e+05</td>\n      <td>7.329000e+01</td>\n      <td>3.743000e+00</td>\n      <td>9.329340e+03</td>\n      <td>2.375990e+03</td>\n      <td>1.743300e+02</td>\n      <td>3.398660e+03</td>\n      <td>5.024010e+03</td>\n      <td>2.137176e+02</td>\n      <td>8.549000e+00</td>\n    </tr>\n    <tr>\n      <th>max</th>\n      <td>4.500000e+01</td>\n      <td>9.900000e+01</td>\n      <td>6.930994e+05</td>\n      <td>2.196220e+05</td>\n      <td>1.019500e+02</td>\n      <td>4.468000e+00</td>\n      <td>1.031850e+05</td>\n      <td>1.045195e+05</td>\n      <td>1.494833e+05</td>\n      <td>6.747485e+04</td>\n      <td>7.714481e+05</td>\n      <td>2.289765e+02</td>\n      <td>1.431300e+01</td>\n    </tr>\n  </tbody>\n</table>\n</div>"
     },
     "metadata": {},
     "output_type": "execute_result",
     "execution_count": 19
    }
   ],
   "source": [
    "import pandas as pd\n",
    "\n",
    "\n",
    "\n",
    "train = pd.read_csv('Data/train.csv', sep = ',') # read in the training data , names=['store','dept', 'date', 'weeklySales','isHoliday'], header=0\n",
    "feat = pd.read_csv('Data/features.csv', sep = ',') # Read in Feature Data,names=['store','date','temperature','fuel_price','md1','md2','md3','md4','md5','cpi','unemployment','isHoliday'], header=0\n",
    "stores = pd.read_csv('Data/stores.csv', sep = ',') # read in the store data , names=['store','type','size'], header=0\n",
    "df = train.merge(feat, on='Store', how='left').merge(stores, on='Store', how='left')\n",
    "\n",
    "df.info()\n",
    "df.describe()\n",
    "print(df.head(5))\n"
   ],
   "metadata": {
    "collapsed": false,
    "pycharm": {
     "name": "#%%\n",
     "is_executing": false
    }
   }
  },
  {
   "cell_type": "markdown",
   "source": [
    "Now that we've got some basics down, how big of a dataset are we looking at here. \n"
   ],
   "metadata": {
    "collapsed": false
   }
  }
 ],
 "metadata": {
  "language_info": {
   "codemirror_mode": {
    "name": "ipython",
    "version": 2
   },
   "file_extension": ".py",
   "mimetype": "text/x-python",
   "name": "python",
   "nbconvert_exporter": "python",
   "pygments_lexer": "ipython2",
   "version": "2.7.6"
  },
  "kernelspec": {
   "name": "python3",
   "language": "python",
   "display_name": "Python 3"
  },
  "pycharm": {
   "stem_cell": {
    "cell_type": "raw",
    "source": [],
    "metadata": {
     "collapsed": false
    }
   }
  }
 },
 "nbformat": 4,
 "nbformat_minor": 0
}