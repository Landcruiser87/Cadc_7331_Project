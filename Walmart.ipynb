{
 "cells": [
  {
   "cell_type": "markdown",
   "source": [
    "# The Wonderful World of Walmart\n",
    "\n",
    "This notebook begins to explore the retail sales of Walmart over a time period of.  INSERT TIME PERIOD.\n",
    "We will be predicting sales price per store. \n",
    "\n",
    "The data source is below\n",
    "\n",
    "https://www.kaggle.com/c/walmart-recruiting-store-sales-forecasting/data\n",
    "\n",
    "First things first, lets import and take a peek at our data.\n"
   ],
   "metadata": {
    "collapsed": false
   }
  },
  {
   "cell_type": "code",
   "execution_count": 3,
   "outputs": [
    {
     "traceback": [
      "\u001b[1;36m  File \u001b[1;32m\"<ipython-input-3-3adf88cbdf3d>\"\u001b[1;36m, line \u001b[1;32m11\u001b[0m\n\u001b[1;33m    )\u001b[0m\n\u001b[1;37m    ^\u001b[0m\n\u001b[1;31mSyntaxError\u001b[0m\u001b[1;31m:\u001b[0m invalid syntax\n"
     ],
     "ename": "SyntaxError",
     "evalue": "invalid syntax (<ipython-input-3-3adf88cbdf3d>, line 11)",
     "output_type": "error"
    }
   ],
   "source": [
    "import pandas as pd\n",
    "\n",
    "train = pd.read_csv('Data/train.csv', sep = ',') # read in the training data \n",
    "feat = pd.read_csv('Data/features.csv', sep = ',') # Read in Feature Data\n",
    "stores = pd.read_csv('Data/stores.csv', sep = ',') # read in the store data \n",
    "df = pd.merge(feat, on='Store', how='left').merge(stores, on='Store', how='left')\n",
    "df = df.merge(train, on='Store', how='left')\n",
    "\n",
    "df.info()\n",
    "df.describe()\n",
    "\n"
   ],
   "metadata": {
    "collapsed": false,
    "pycharm": {
     "name": "#%%\n",
     "is_executing": false
    }
   }
  },
  {
   "cell_type": "markdown",
   "source": [
    "Now that we've got some basics down, how big of a dataset are we looking at here. \n"
   ],
   "metadata": {
    "collapsed": false
   }
  }
 ],
 "metadata": {
  "language_info": {
   "codemirror_mode": {
    "name": "ipython",
    "version": 2
   },
   "file_extension": ".py",
   "mimetype": "text/x-python",
   "name": "python",
   "nbconvert_exporter": "python",
   "pygments_lexer": "ipython2",
   "version": "2.7.6"
  },
  "kernelspec": {
   "name": "python3",
   "language": "python",
   "display_name": "Python 3"
  },
  "pycharm": {
   "stem_cell": {
    "cell_type": "raw",
    "source": [],
    "metadata": {
     "collapsed": false
    }
   }
  }
 },
 "nbformat": 4,
 "nbformat_minor": 0
}