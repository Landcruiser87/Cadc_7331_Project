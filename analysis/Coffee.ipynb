{
 "cells": [
  {
   "cell_type": "markdown",
   "metadata": {
    "collapsed": true,
    "pycharm": {
     "name": "#%% md\n"
    }
   },
   "source": [
    "# The Wonderful World of Coffee\n",
    "\n",
    "This notebook begins to explore the retail sales of a cars dataset scraped by one gracious\n",
    " reddit user, We will be predicting Price first, but lets see where the day takes us\n",
    "\n",
    "The data source is below\n",
    "\n",
    "https://github.com/jldbc/coffee-quality-database\n",
    "\n",
    "First things first, lets import our libraries and take a peek at our data.\n"
   ]
  },
  {
   "cell_type": "code",
   "execution_count": 10,
   "outputs": [],
   "source": [
    "#Add library references\n",
    "import pandas as pd\n",
    "import numpy as np\n",
    "import seaborn as sns\n",
    "import matplotlib.pyplot as plt\n",
    "%matplotlib inline\n"
   ],
   "metadata": {
    "collapsed": false,
    "pycharm": {
     "name": "#%%\n",
     "is_executing": false
    }
   }
  },
  {
   "cell_type": "code",
   "execution_count": 22,
   "outputs": [
    {
     "name": "stdout",
     "text": [
      "Index(['Id', 'Species', 'Owner', 'Country.of.Origin', 'Farm.Name',\n       'Lot.Number', 'Mill', 'ICO.Number', 'Company', 'Altitude', 'Region',\n       'Producer', 'Number.of.Bags', 'Bag.Weight', 'In.Country.Partner',\n       'Harvest.Year', 'Grading.Date', 'Owner.1', 'Variety',\n       'Processing.Method', 'Aroma', 'Flavor', 'Aftertaste', 'Acidity', 'Body',\n       'Balance', 'Uniformity', 'Clean.Cup', 'Sweetness', 'Cupper.Points',\n       'Total.Cup.Points', 'Moisture', 'Category.One.Defects', 'Quakers',\n       'Color', 'Category.Two.Defects', 'Expiration', 'Certification.Body',\n       'Certification.Address', 'Certification.Contact', 'unit_of_measurement',\n       'altitude_low_meters', 'altitude_high_meters', 'altitude_mean_meters'],\n      dtype='object')\n"
     ],
     "output_type": "stream"
    }
   ],
   "source": [
    "#Upload Data\n",
    "\n",
    "df_arab = pd.read_csv('https://raw.githubusercontent.com/jldbc/coffee-quality-database/master/data/arabica_data_cleaned.csv') # read in the Arabica data\n",
    "df_rob = pd.read_csv('https://raw.githubusercontent.com/jldbc/coffee-quality-database/master/data/robusta_data_cleaned.csv') # read in the Robusta data\n",
    "#Quick Column rename\n",
    "df_arab.rename(columns={'Unnamed: 0':'Id'}, inplace=True)\n",
    "df_rob.rename(columns={'Unnamed: 0':'Id'}, inplace=True)\n",
    "print(df_arab.columns)\n"
   ],
   "metadata": {
    "collapsed": false,
    "pycharm": {
     "name": "#%%\n",
     "is_executing": false
    }
   }
  },
  {
   "cell_type": "markdown",
   "source": [
    "Now that we've got the data inputted, let's begin our EDA process by looking at our datatypes and\n",
    "overall shape of the data.\n"
   ],
   "metadata": {
    "collapsed": false
   }
  },
  {
   "cell_type": "code",
   "execution_count": 15,
   "outputs": [
    {
     "name": "stdout",
     "text": [
      "Structure of Cars:  (1311, 44) \n\nSummary Statistic's:\n         Unnamed: 0  Number.of.Bags        Aroma       Flavor   Aftertaste  \\\ncount  1311.000000     1311.000000  1311.000000  1311.000000  1311.000000   \nmean    656.000763      153.887872     7.563806     7.518070     7.397696   \nstd     378.598733      129.733734     0.378666     0.399979     0.405119   \nmin       1.000000        0.000000     0.000000     0.000000     0.000000   \n25%     328.500000       14.500000     7.420000     7.330000     7.250000   \n50%     656.000000      175.000000     7.580000     7.580000     7.420000   \n75%     983.500000      275.000000     7.750000     7.750000     7.580000   \nmax    1312.000000     1062.000000     8.750000     8.830000     8.670000   \n\n           Acidity         Body      Balance   Uniformity   Clean.Cup  \\\ncount  1311.000000  1311.000000  1311.000000  1311.000000  1311.00000   \nmean      7.533112     7.517727     7.517506     9.833394     9.83312   \nstd       0.381599     0.359213     0.406316     0.559343     0.77135   \nmin       0.000000     0.000000     0.000000     0.000000     0.00000   \n25%       7.330000     7.330000     7.330000    10.000000    10.00000   \n50%       7.500000     7.500000     7.500000    10.000000    10.00000   \n75%       7.750000     7.670000     7.750000    10.000000    10.00000   \nmax       8.750000     8.580000     8.750000    10.000000    10.00000   \n\n         Sweetness  Cupper.Points  Total.Cup.Points     Moisture  \\\ncount  1311.000000    1311.000000       1311.000000  1311.000000   \nmean      9.903272       7.497864         82.115927     0.088863   \nstd       0.530832       0.474610          3.515761     0.047957   \nmin       0.000000       0.000000          0.000000     0.000000   \n25%      10.000000       7.250000         81.170000     0.090000   \n50%      10.000000       7.500000         82.500000     0.110000   \n75%      10.000000       7.750000         83.670000     0.120000   \nmax      10.000000      10.000000         90.580000     0.280000   \n\n       Category.One.Defects      Quakers  Category.Two.Defects  \\\ncount           1311.000000  1310.000000           1311.000000   \nmean               0.426392     0.177099              3.591915   \nstd                1.832415     0.840583              5.350371   \nmin                0.000000     0.000000              0.000000   \n25%                0.000000     0.000000              0.000000   \n50%                0.000000     0.000000              2.000000   \n75%                0.000000     0.000000              4.000000   \nmax               31.000000    11.000000             55.000000   \n\n       altitude_low_meters  altitude_high_meters  altitude_mean_meters  \ncount          1084.000000           1084.000000           1084.000000  \nmean           1759.548954           1808.843803           1784.196379  \nstd            8767.847252           8767.187498           8767.016913  \nmin               1.000000              1.000000              1.000000  \n25%            1100.000000           1100.000000           1100.000000  \n50%            1310.640000           1350.000000           1310.640000  \n75%            1600.000000           1650.000000           1600.000000  \nmax          190164.000000         190164.000000         190164.000000   \n\nCount of missing car values:\n Lot.Number               1041\nFarm.Name                 356\nMill                      310\nProducer                  230\naltitude_mean_meters      227\naltitude_low_meters       227\naltitude_high_meters      227\nAltitude                  223\nColor                     216\nCompany                   209\nVariety                   201\nProcessing.Method         152\nICO.Number                146\nRegion                     57\nHarvest.Year               47\nOwner                       7\nOwner.1                     7\nQuakers                     1\nCountry.of.Origin           1\nNumber.of.Bags              0\nBag.Weight                  0\nIn.Country.Partner          0\nGrading.Date                0\nSpecies                     0\nFlavor                      0\nAroma                       0\nMoisture                    0\nunit_of_measurement         0\nCertification.Contact       0\nCertification.Address       0\nCertification.Body          0\nExpiration                  0\nCategory.Two.Defects        0\nCategory.One.Defects        0\nTotal.Cup.Points            0\nAftertaste                  0\nCupper.Points               0\nSweetness                   0\nClean.Cup                   0\nUniformity                  0\nBalance                     0\nBody                        0\nAcidity                     0\nUnnamed: 0                  0\ndtype: int64 \n\nStructure of Cars:  (28, 44) \n\nSummary Statistic's:\n        Unnamed: 0  Number.of.Bags  Harvest.Year  Fragrance...Aroma     Flavor  \\\ncount   28.000000       28.000000     28.000000          28.000000  28.000000   \nmean    14.500000      168.000000   2013.964286           7.702500   7.630714   \nstd      8.225975      143.226317      1.346660           0.296156   0.303656   \nmin      1.000000        1.000000   2012.000000           6.750000   6.670000   \n25%      7.750000        1.000000   2013.000000           7.580000   7.560000   \n50%     14.500000      170.000000   2014.000000           7.670000   7.710000   \n75%     21.250000      320.000000   2015.000000           7.920000   7.830000   \nmax     28.000000      320.000000   2017.000000           8.330000   8.080000   \n\n       Aftertaste  Salt...Acid  Bitter...Sweet  Mouthfeel  Uniform.Cup  ...  \\\ncount   28.000000    28.000000       28.000000  28.000000    28.000000  ...   \nmean     7.559643     7.657143        7.675714   7.506786     9.904286  ...   \nstd      0.342469     0.261773        0.317063   0.725152     0.238753  ...   \nmin      6.500000     6.830000        6.670000   5.080000     9.330000  ...   \n25%      7.397500     7.560000        7.580000   7.500000    10.000000  ...   \n50%      7.670000     7.710000        7.750000   7.670000    10.000000  ...   \n75%      7.770000     7.830000        7.830000   7.830000    10.000000  ...   \nmax      7.920000     8.000000        8.420000   8.250000    10.000000  ...   \n\n         Balance  Cupper.Points  Total.Cup.Points   Moisture  \\\ncount  28.000000      28.000000         28.000000  28.000000   \nmean    7.541786       7.761429         80.868929   0.065714   \nstd     0.526076       0.330507          2.441233   0.058464   \nmin     5.250000       6.920000         73.750000   0.000000   \n25%     7.500000       7.580000         80.170000   0.000000   \n50%     7.670000       7.830000         81.500000   0.100000   \n75%     7.830000       7.920000         82.520000   0.120000   \nmax     8.000000       8.580000         83.750000   0.130000   \n\n       Category.One.Defects  Quakers  Category.Two.Defects  \\\ncount             28.000000     28.0             28.000000   \nmean               2.964286      0.0              1.892857   \nstd               12.357280      0.0              2.601129   \nmin                0.000000      0.0              0.000000   \n25%                0.000000      0.0              0.000000   \n50%                0.000000      0.0              1.000000   \n75%                0.000000      0.0              2.000000   \nmax               63.000000      0.0              9.000000   \n\n       altitude_low_meters  altitude_high_meters  altitude_mean_meters  \ncount             25.00000             25.000000             25.000000  \nmean            1367.60000           1387.600000           1377.600000  \nstd              838.06205            831.884207            833.980216  \nmin               40.00000             40.000000             40.000000  \n25%              795.00000            795.000000            795.000000  \n50%             1095.00000           1200.000000           1100.000000  \n75%             1488.00000           1488.000000           1488.000000  \nmax             3170.00000           3170.000000           3170.000000  \n\n[8 rows x 21 columns]",
      " \n\nCount of missing car values:\n Variety                  25\nLot.Number               22\nProcessing.Method        18\nICO.Number               11\nMill                      8\naltitude_mean_meters      3\nAltitude                  3\naltitude_high_meters      3\nFarm.Name                 3\naltitude_low_meters       3\nColor                     2\nRegion                    2\nProducer                  2\nCountry.of.Origin         0\nOwner                     0\nSpecies                   0\nNumber.of.Bags            0\nBag.Weight                0\nIn.Country.Partner        0\nHarvest.Year              0\nGrading.Date              0\nOwner.1                   0\nCompany                   0\nFlavor                    0\nFragrance...Aroma         0\nAftertaste                0\nunit_of_measurement       0\nCertification.Contact     0\nCertification.Address     0\nCertification.Body        0\nExpiration                0\nCategory.Two.Defects      0\nQuakers                   0\nCategory.One.Defects      0\nMoisture                  0\nTotal.Cup.Points          0\nCupper.Points             0\nBalance                   0\nClean.Cup                 0\nUniform.Cup               0\nMouthfeel                 0\nBitter...Sweet            0\nSalt...Acid               0\nUnnamed: 0                0\ndtype: int64 \n\n"
     ],
     "output_type": "stream"
    },
    {
     "data": {
      "text/plain": "        Unnamed: 0  Number.of.Bags        Aroma       Flavor   Aftertaste  \\\ncount  1311.000000     1311.000000  1311.000000  1311.000000  1311.000000   \nmean    656.000763      153.887872     7.563806     7.518070     7.397696   \nstd     378.598733      129.733734     0.378666     0.399979     0.405119   \nmin       1.000000        0.000000     0.000000     0.000000     0.000000   \n25%     328.500000       14.500000     7.420000     7.330000     7.250000   \n50%     656.000000      175.000000     7.580000     7.580000     7.420000   \n75%     983.500000      275.000000     7.750000     7.750000     7.580000   \nmax    1312.000000     1062.000000     8.750000     8.830000     8.670000   \n\n           Acidity         Body      Balance   Uniformity   Clean.Cup  \\\ncount  1311.000000  1311.000000  1311.000000  1311.000000  1311.00000   \nmean      7.533112     7.517727     7.517506     9.833394     9.83312   \nstd       0.381599     0.359213     0.406316     0.559343     0.77135   \nmin       0.000000     0.000000     0.000000     0.000000     0.00000   \n25%       7.330000     7.330000     7.330000    10.000000    10.00000   \n50%       7.500000     7.500000     7.500000    10.000000    10.00000   \n75%       7.750000     7.670000     7.750000    10.000000    10.00000   \nmax       8.750000     8.580000     8.750000    10.000000    10.00000   \n\n         Sweetness  Cupper.Points  Total.Cup.Points     Moisture  \\\ncount  1311.000000    1311.000000       1311.000000  1311.000000   \nmean      9.903272       7.497864         82.115927     0.088863   \nstd       0.530832       0.474610          3.515761     0.047957   \nmin       0.000000       0.000000          0.000000     0.000000   \n25%      10.000000       7.250000         81.170000     0.090000   \n50%      10.000000       7.500000         82.500000     0.110000   \n75%      10.000000       7.750000         83.670000     0.120000   \nmax      10.000000      10.000000         90.580000     0.280000   \n\n       Category.One.Defects      Quakers  Category.Two.Defects  \\\ncount           1311.000000  1310.000000           1311.000000   \nmean               0.426392     0.177099              3.591915   \nstd                1.832415     0.840583              5.350371   \nmin                0.000000     0.000000              0.000000   \n25%                0.000000     0.000000              0.000000   \n50%                0.000000     0.000000              2.000000   \n75%                0.000000     0.000000              4.000000   \nmax               31.000000    11.000000             55.000000   \n\n       altitude_low_meters  altitude_high_meters  altitude_mean_meters  \ncount          1084.000000           1084.000000           1084.000000  \nmean           1759.548954           1808.843803           1784.196379  \nstd            8767.847252           8767.187498           8767.016913  \nmin               1.000000              1.000000              1.000000  \n25%            1100.000000           1100.000000           1100.000000  \n50%            1310.640000           1350.000000           1310.640000  \n75%            1600.000000           1650.000000           1600.000000  \nmax          190164.000000         190164.000000         190164.000000  ",
      "text/html": "<div>\n<style scoped>\n    .dataframe tbody tr th:only-of-type {\n        vertical-align: middle;\n    }\n\n    .dataframe tbody tr th {\n        vertical-align: top;\n    }\n\n    .dataframe thead th {\n        text-align: right;\n    }\n</style>\n<table border=\"1\" class=\"dataframe\">\n  <thead>\n    <tr style=\"text-align: right;\">\n      <th></th>\n      <th>Unnamed: 0</th>\n      <th>Number.of.Bags</th>\n      <th>Aroma</th>\n      <th>Flavor</th>\n      <th>Aftertaste</th>\n      <th>Acidity</th>\n      <th>Body</th>\n      <th>Balance</th>\n      <th>Uniformity</th>\n      <th>Clean.Cup</th>\n      <th>Sweetness</th>\n      <th>Cupper.Points</th>\n      <th>Total.Cup.Points</th>\n      <th>Moisture</th>\n      <th>Category.One.Defects</th>\n      <th>Quakers</th>\n      <th>Category.Two.Defects</th>\n      <th>altitude_low_meters</th>\n      <th>altitude_high_meters</th>\n      <th>altitude_mean_meters</th>\n    </tr>\n  </thead>\n  <tbody>\n    <tr>\n      <th>count</th>\n      <td>1311.000000</td>\n      <td>1311.000000</td>\n      <td>1311.000000</td>\n      <td>1311.000000</td>\n      <td>1311.000000</td>\n      <td>1311.000000</td>\n      <td>1311.000000</td>\n      <td>1311.000000</td>\n      <td>1311.000000</td>\n      <td>1311.00000</td>\n      <td>1311.000000</td>\n      <td>1311.000000</td>\n      <td>1311.000000</td>\n      <td>1311.000000</td>\n      <td>1311.000000</td>\n      <td>1310.000000</td>\n      <td>1311.000000</td>\n      <td>1084.000000</td>\n      <td>1084.000000</td>\n      <td>1084.000000</td>\n    </tr>\n    <tr>\n      <th>mean</th>\n      <td>656.000763</td>\n      <td>153.887872</td>\n      <td>7.563806</td>\n      <td>7.518070</td>\n      <td>7.397696</td>\n      <td>7.533112</td>\n      <td>7.517727</td>\n      <td>7.517506</td>\n      <td>9.833394</td>\n      <td>9.83312</td>\n      <td>9.903272</td>\n      <td>7.497864</td>\n      <td>82.115927</td>\n      <td>0.088863</td>\n      <td>0.426392</td>\n      <td>0.177099</td>\n      <td>3.591915</td>\n      <td>1759.548954</td>\n      <td>1808.843803</td>\n      <td>1784.196379</td>\n    </tr>\n    <tr>\n      <th>std</th>\n      <td>378.598733</td>\n      <td>129.733734</td>\n      <td>0.378666</td>\n      <td>0.399979</td>\n      <td>0.405119</td>\n      <td>0.381599</td>\n      <td>0.359213</td>\n      <td>0.406316</td>\n      <td>0.559343</td>\n      <td>0.77135</td>\n      <td>0.530832</td>\n      <td>0.474610</td>\n      <td>3.515761</td>\n      <td>0.047957</td>\n      <td>1.832415</td>\n      <td>0.840583</td>\n      <td>5.350371</td>\n      <td>8767.847252</td>\n      <td>8767.187498</td>\n      <td>8767.016913</td>\n    </tr>\n    <tr>\n      <th>min</th>\n      <td>1.000000</td>\n      <td>0.000000</td>\n      <td>0.000000</td>\n      <td>0.000000</td>\n      <td>0.000000</td>\n      <td>0.000000</td>\n      <td>0.000000</td>\n      <td>0.000000</td>\n      <td>0.000000</td>\n      <td>0.00000</td>\n      <td>0.000000</td>\n      <td>0.000000</td>\n      <td>0.000000</td>\n      <td>0.000000</td>\n      <td>0.000000</td>\n      <td>0.000000</td>\n      <td>0.000000</td>\n      <td>1.000000</td>\n      <td>1.000000</td>\n      <td>1.000000</td>\n    </tr>\n    <tr>\n      <th>25%</th>\n      <td>328.500000</td>\n      <td>14.500000</td>\n      <td>7.420000</td>\n      <td>7.330000</td>\n      <td>7.250000</td>\n      <td>7.330000</td>\n      <td>7.330000</td>\n      <td>7.330000</td>\n      <td>10.000000</td>\n      <td>10.00000</td>\n      <td>10.000000</td>\n      <td>7.250000</td>\n      <td>81.170000</td>\n      <td>0.090000</td>\n      <td>0.000000</td>\n      <td>0.000000</td>\n      <td>0.000000</td>\n      <td>1100.000000</td>\n      <td>1100.000000</td>\n      <td>1100.000000</td>\n    </tr>\n    <tr>\n      <th>50%</th>\n      <td>656.000000</td>\n      <td>175.000000</td>\n      <td>7.580000</td>\n      <td>7.580000</td>\n      <td>7.420000</td>\n      <td>7.500000</td>\n      <td>7.500000</td>\n      <td>7.500000</td>\n      <td>10.000000</td>\n      <td>10.00000</td>\n      <td>10.000000</td>\n      <td>7.500000</td>\n      <td>82.500000</td>\n      <td>0.110000</td>\n      <td>0.000000</td>\n      <td>0.000000</td>\n      <td>2.000000</td>\n      <td>1310.640000</td>\n      <td>1350.000000</td>\n      <td>1310.640000</td>\n    </tr>\n    <tr>\n      <th>75%</th>\n      <td>983.500000</td>\n      <td>275.000000</td>\n      <td>7.750000</td>\n      <td>7.750000</td>\n      <td>7.580000</td>\n      <td>7.750000</td>\n      <td>7.670000</td>\n      <td>7.750000</td>\n      <td>10.000000</td>\n      <td>10.00000</td>\n      <td>10.000000</td>\n      <td>7.750000</td>\n      <td>83.670000</td>\n      <td>0.120000</td>\n      <td>0.000000</td>\n      <td>0.000000</td>\n      <td>4.000000</td>\n      <td>1600.000000</td>\n      <td>1650.000000</td>\n      <td>1600.000000</td>\n    </tr>\n    <tr>\n      <th>max</th>\n      <td>1312.000000</td>\n      <td>1062.000000</td>\n      <td>8.750000</td>\n      <td>8.830000</td>\n      <td>8.670000</td>\n      <td>8.750000</td>\n      <td>8.580000</td>\n      <td>8.750000</td>\n      <td>10.000000</td>\n      <td>10.00000</td>\n      <td>10.000000</td>\n      <td>10.000000</td>\n      <td>90.580000</td>\n      <td>0.280000</td>\n      <td>31.000000</td>\n      <td>11.000000</td>\n      <td>55.000000</td>\n      <td>190164.000000</td>\n      <td>190164.000000</td>\n      <td>190164.000000</td>\n    </tr>\n  </tbody>\n</table>\n</div>"
     },
     "metadata": {},
     "output_type": "execute_result",
     "execution_count": 15
    }
   ],
   "source": [
    "#Arabica Stats\n",
    "#print(df_arab.head().append(df_arab.tail()), \"\\n\")\n",
    "print(\"Structure of Arabica: \",df_arab.shape,\"\\n\")\n",
    "print(\"Summary Statistic's:\\n\",df_arab.describe(),\"\\n\")\n",
    "print(\"Count of missing Arabica values:\\n\",df_arab.isnull().sum().sort_values(ascending=False),\"\\n\")\n",
    "\n",
    "#Rob Stats\n",
    "#print(df_rob.head().append(df_arab.tail()), \"\\n\")\n",
    "print(\"Structure of Robusta: \",df_rob.shape,\"\\n\")\n",
    "print(\"Summary Statistic's:\\n\",df_rob.describe(),\"\\n\")\n",
    "print(\"Count of missing Robusta values:\\n\",df_rob.isnull().sum().sort_values(ascending=False),\"\\n\")\n",
    "#df_arab.describe()\n",
    "#df_rob.describe()\n"
   ],
   "metadata": {
    "collapsed": false,
    "pycharm": {
     "name": "#%%\n",
     "is_executing": false
    }
   }
  },
  {
   "cell_type": "code",
   "execution_count": 13,
   "outputs": [
    {
     "data": {
      "text/plain": "       Unnamed: 0  Number.of.Bags  Harvest.Year  Fragrance...Aroma     Flavor  \\\ncount   28.000000       28.000000     28.000000          28.000000  28.000000   \nmean    14.500000      168.000000   2013.964286           7.702500   7.630714   \nstd      8.225975      143.226317      1.346660           0.296156   0.303656   \nmin      1.000000        1.000000   2012.000000           6.750000   6.670000   \n25%      7.750000        1.000000   2013.000000           7.580000   7.560000   \n50%     14.500000      170.000000   2014.000000           7.670000   7.710000   \n75%     21.250000      320.000000   2015.000000           7.920000   7.830000   \nmax     28.000000      320.000000   2017.000000           8.330000   8.080000   \n\n       Aftertaste  Salt...Acid  Bitter...Sweet  Mouthfeel  Uniform.Cup  ...  \\\ncount   28.000000    28.000000       28.000000  28.000000    28.000000  ...   \nmean     7.559643     7.657143        7.675714   7.506786     9.904286  ...   \nstd      0.342469     0.261773        0.317063   0.725152     0.238753  ...   \nmin      6.500000     6.830000        6.670000   5.080000     9.330000  ...   \n25%      7.397500     7.560000        7.580000   7.500000    10.000000  ...   \n50%      7.670000     7.710000        7.750000   7.670000    10.000000  ...   \n75%      7.770000     7.830000        7.830000   7.830000    10.000000  ...   \nmax      7.920000     8.000000        8.420000   8.250000    10.000000  ...   \n\n         Balance  Cupper.Points  Total.Cup.Points   Moisture  \\\ncount  28.000000      28.000000         28.000000  28.000000   \nmean    7.541786       7.761429         80.868929   0.065714   \nstd     0.526076       0.330507          2.441233   0.058464   \nmin     5.250000       6.920000         73.750000   0.000000   \n25%     7.500000       7.580000         80.170000   0.000000   \n50%     7.670000       7.830000         81.500000   0.100000   \n75%     7.830000       7.920000         82.520000   0.120000   \nmax     8.000000       8.580000         83.750000   0.130000   \n\n       Category.One.Defects  Quakers  Category.Two.Defects  \\\ncount             28.000000     28.0             28.000000   \nmean               2.964286      0.0              1.892857   \nstd               12.357280      0.0              2.601129   \nmin                0.000000      0.0              0.000000   \n25%                0.000000      0.0              0.000000   \n50%                0.000000      0.0              1.000000   \n75%                0.000000      0.0              2.000000   \nmax               63.000000      0.0              9.000000   \n\n       altitude_low_meters  altitude_high_meters  altitude_mean_meters  \ncount             25.00000             25.000000             25.000000  \nmean            1367.60000           1387.600000           1377.600000  \nstd              838.06205            831.884207            833.980216  \nmin               40.00000             40.000000             40.000000  \n25%              795.00000            795.000000            795.000000  \n50%             1095.00000           1200.000000           1100.000000  \n75%             1488.00000           1488.000000           1488.000000  \nmax             3170.00000           3170.000000           3170.000000  \n\n[8 rows x 21 columns]",
      "text/html": "<div>\n<style scoped>\n    .dataframe tbody tr th:only-of-type {\n        vertical-align: middle;\n    }\n\n    .dataframe tbody tr th {\n        vertical-align: top;\n    }\n\n    .dataframe thead th {\n        text-align: right;\n    }\n</style>\n<table border=\"1\" class=\"dataframe\">\n  <thead>\n    <tr style=\"text-align: right;\">\n      <th></th>\n      <th>Unnamed: 0</th>\n      <th>Number.of.Bags</th>\n      <th>Harvest.Year</th>\n      <th>Fragrance...Aroma</th>\n      <th>Flavor</th>\n      <th>Aftertaste</th>\n      <th>Salt...Acid</th>\n      <th>Bitter...Sweet</th>\n      <th>Mouthfeel</th>\n      <th>Uniform.Cup</th>\n      <th>...</th>\n      <th>Balance</th>\n      <th>Cupper.Points</th>\n      <th>Total.Cup.Points</th>\n      <th>Moisture</th>\n      <th>Category.One.Defects</th>\n      <th>Quakers</th>\n      <th>Category.Two.Defects</th>\n      <th>altitude_low_meters</th>\n      <th>altitude_high_meters</th>\n      <th>altitude_mean_meters</th>\n    </tr>\n  </thead>\n  <tbody>\n    <tr>\n      <th>count</th>\n      <td>28.000000</td>\n      <td>28.000000</td>\n      <td>28.000000</td>\n      <td>28.000000</td>\n      <td>28.000000</td>\n      <td>28.000000</td>\n      <td>28.000000</td>\n      <td>28.000000</td>\n      <td>28.000000</td>\n      <td>28.000000</td>\n      <td>...</td>\n      <td>28.000000</td>\n      <td>28.000000</td>\n      <td>28.000000</td>\n      <td>28.000000</td>\n      <td>28.000000</td>\n      <td>28.0</td>\n      <td>28.000000</td>\n      <td>25.00000</td>\n      <td>25.000000</td>\n      <td>25.000000</td>\n    </tr>\n    <tr>\n      <th>mean</th>\n      <td>14.500000</td>\n      <td>168.000000</td>\n      <td>2013.964286</td>\n      <td>7.702500</td>\n      <td>7.630714</td>\n      <td>7.559643</td>\n      <td>7.657143</td>\n      <td>7.675714</td>\n      <td>7.506786</td>\n      <td>9.904286</td>\n      <td>...</td>\n      <td>7.541786</td>\n      <td>7.761429</td>\n      <td>80.868929</td>\n      <td>0.065714</td>\n      <td>2.964286</td>\n      <td>0.0</td>\n      <td>1.892857</td>\n      <td>1367.60000</td>\n      <td>1387.600000</td>\n      <td>1377.600000</td>\n    </tr>\n    <tr>\n      <th>std</th>\n      <td>8.225975</td>\n      <td>143.226317</td>\n      <td>1.346660</td>\n      <td>0.296156</td>\n      <td>0.303656</td>\n      <td>0.342469</td>\n      <td>0.261773</td>\n      <td>0.317063</td>\n      <td>0.725152</td>\n      <td>0.238753</td>\n      <td>...</td>\n      <td>0.526076</td>\n      <td>0.330507</td>\n      <td>2.441233</td>\n      <td>0.058464</td>\n      <td>12.357280</td>\n      <td>0.0</td>\n      <td>2.601129</td>\n      <td>838.06205</td>\n      <td>831.884207</td>\n      <td>833.980216</td>\n    </tr>\n    <tr>\n      <th>min</th>\n      <td>1.000000</td>\n      <td>1.000000</td>\n      <td>2012.000000</td>\n      <td>6.750000</td>\n      <td>6.670000</td>\n      <td>6.500000</td>\n      <td>6.830000</td>\n      <td>6.670000</td>\n      <td>5.080000</td>\n      <td>9.330000</td>\n      <td>...</td>\n      <td>5.250000</td>\n      <td>6.920000</td>\n      <td>73.750000</td>\n      <td>0.000000</td>\n      <td>0.000000</td>\n      <td>0.0</td>\n      <td>0.000000</td>\n      <td>40.00000</td>\n      <td>40.000000</td>\n      <td>40.000000</td>\n    </tr>\n    <tr>\n      <th>25%</th>\n      <td>7.750000</td>\n      <td>1.000000</td>\n      <td>2013.000000</td>\n      <td>7.580000</td>\n      <td>7.560000</td>\n      <td>7.397500</td>\n      <td>7.560000</td>\n      <td>7.580000</td>\n      <td>7.500000</td>\n      <td>10.000000</td>\n      <td>...</td>\n      <td>7.500000</td>\n      <td>7.580000</td>\n      <td>80.170000</td>\n      <td>0.000000</td>\n      <td>0.000000</td>\n      <td>0.0</td>\n      <td>0.000000</td>\n      <td>795.00000</td>\n      <td>795.000000</td>\n      <td>795.000000</td>\n    </tr>\n    <tr>\n      <th>50%</th>\n      <td>14.500000</td>\n      <td>170.000000</td>\n      <td>2014.000000</td>\n      <td>7.670000</td>\n      <td>7.710000</td>\n      <td>7.670000</td>\n      <td>7.710000</td>\n      <td>7.750000</td>\n      <td>7.670000</td>\n      <td>10.000000</td>\n      <td>...</td>\n      <td>7.670000</td>\n      <td>7.830000</td>\n      <td>81.500000</td>\n      <td>0.100000</td>\n      <td>0.000000</td>\n      <td>0.0</td>\n      <td>1.000000</td>\n      <td>1095.00000</td>\n      <td>1200.000000</td>\n      <td>1100.000000</td>\n    </tr>\n    <tr>\n      <th>75%</th>\n      <td>21.250000</td>\n      <td>320.000000</td>\n      <td>2015.000000</td>\n      <td>7.920000</td>\n      <td>7.830000</td>\n      <td>7.770000</td>\n      <td>7.830000</td>\n      <td>7.830000</td>\n      <td>7.830000</td>\n      <td>10.000000</td>\n      <td>...</td>\n      <td>7.830000</td>\n      <td>7.920000</td>\n      <td>82.520000</td>\n      <td>0.120000</td>\n      <td>0.000000</td>\n      <td>0.0</td>\n      <td>2.000000</td>\n      <td>1488.00000</td>\n      <td>1488.000000</td>\n      <td>1488.000000</td>\n    </tr>\n    <tr>\n      <th>max</th>\n      <td>28.000000</td>\n      <td>320.000000</td>\n      <td>2017.000000</td>\n      <td>8.330000</td>\n      <td>8.080000</td>\n      <td>7.920000</td>\n      <td>8.000000</td>\n      <td>8.420000</td>\n      <td>8.250000</td>\n      <td>10.000000</td>\n      <td>...</td>\n      <td>8.000000</td>\n      <td>8.580000</td>\n      <td>83.750000</td>\n      <td>0.130000</td>\n      <td>63.000000</td>\n      <td>0.0</td>\n      <td>9.000000</td>\n      <td>3170.00000</td>\n      <td>3170.000000</td>\n      <td>3170.000000</td>\n    </tr>\n  </tbody>\n</table>\n<p>8 rows × 21 columns</p>\n</div>"
     },
     "metadata": {},
     "output_type": "execute_result",
     "execution_count": 13
    }
   ],
   "source": [
    "#lets get a quick look at the arabica data\n",
    "\n",
    "\n",
    "\n",
    "\n"
   ],
   "metadata": {
    "collapsed": false,
    "pycharm": {
     "name": "#%%\n",
     "is_executing": false
    }
   }
  }
 ],
 "metadata": {
  "language_info": {
   "codemirror_mode": {
    "name": "ipython",
    "version": 2
   },
   "file_extension": ".py",
   "mimetype": "text/x-python",
   "name": "python",
   "nbconvert_exporter": "python",
   "pygments_lexer": "ipython2",
   "version": "2.7.6"
  },
  "kernelspec": {
   "name": "python3",
   "language": "python",
   "display_name": "Python 3"
  },
  "pycharm": {
   "stem_cell": {
    "cell_type": "raw",
    "source": [],
    "metadata": {
     "collapsed": false
    }
   }
  }
 },
 "nbformat": 4,
 "nbformat_minor": 0
}