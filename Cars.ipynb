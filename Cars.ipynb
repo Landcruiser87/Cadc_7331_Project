{
 "cells": [
  {
   "cell_type": "markdown",
   "metadata": {
    "collapsed": true,
    "pycharm": {
     "name": "#%% md\n"
    }
   },
   "source": [
    "# The Wonderful World of cars\n",
    "\n",
    "This notebook begins to explore the retail sales of a cars dataset scraped by one gracious\n",
    " reddit user, We will be predicting Price first, but lets see where the day takes us\n",
    "\n",
    "The data source is below\n",
    "\n",
    "https://www.reddit.com/r/datasets/comments/b6rcwv/i_scraped_32000_cars_including_the_price_and_115/\n",
    "\n",
    "First things first, lets import our librarie and take a peek at our data.\n"
   ]
  },
  {
   "cell_type": "code",
   "execution_count": 1,
   "outputs": [],
   "source": [
    "#Add library references\n",
    "import pandas as pd\n"
   ],
   "metadata": {
    "collapsed": false,
    "pycharm": {
     "name": "#%%\n",
     "is_executing": false
    }
   }
  },
  {
   "cell_type": "code",
   "execution_count": 3,
   "outputs": [],
   "source": [
    "#Upload Data\n",
    "df_cars = pd.read_csv('Data/fullspecs.csv', sep = ',') # read in the training data\n",
    "df_cars = df_cars.transpose()\n"
   ],
   "metadata": {
    "collapsed": false,
    "pycharm": {
     "name": "#%%\n",
     "is_executing": false
    }
   }
  },
  {
   "cell_type": "markdown",
   "source": [
    "Now that we've got the data inputted, let's begin our EDA process by looking at our datatypes and\n",
    "overall shape of the data.\n"
   ],
   "metadata": {
    "collapsed": false
   }
  },
  {
   "cell_type": "code",
   "execution_count": 4,
   "outputs": [
    {
     "name": "stdout",
     "text": [
      "                                                        0    \\\nUnnamed: 0                                             MSRP   \n2019 Acura RDX Specs: FWD w/Technology Pkg          $40,600   \n2019 Acura RDX Specs: FWD w/Advance Pkg             $45,500   \n2019 Acura RDX Specs: FWD w/A-Spec Pkg              $43,600   \n2019 Acura RDX Specs: FWD                           $37,400   \n2018 Volvo V60 Cross Country Specs: T5 AWD Plat...  $45,700   \n2016 Volvo V60 Cross Country Specs: 4-Door Wago...  $41,200   \n2016 Volvo V60 Cross Country Specs: 4-Door Wago...  $44,850   \n2015 Volvo V60 Cross Country Specs: 2015.5 4-Do...  $41,000   \n2015 Volvo V60 Cross Country Specs: 2015.5 4-Do...  $44,650   \n\n                                                                       1    \\\nUnnamed: 0                                                     Gas Mileage   \n2019 Acura RDX Specs: FWD w/Technology Pkg          22 mpg City/28 mpg Hwy   \n2019 Acura RDX Specs: FWD w/Advance Pkg             22 mpg City/28 mpg Hwy   \n2019 Acura RDX Specs: FWD w/A-Spec Pkg              22 mpg City/27 mpg Hwy   \n2019 Acura RDX Specs: FWD                           22 mpg City/28 mpg Hwy   \n2018 Volvo V60 Cross Country Specs: T5 AWD Plat...                     NaN   \n2016 Volvo V60 Cross Country Specs: 4-Door Wago...  20 mpg City/28 mpg Hwy   \n2016 Volvo V60 Cross Country Specs: 4-Door Wago...  20 mpg City/28 mpg Hwy   \n2015 Volvo V60 Cross Country Specs: 2015.5 4-Do...  20 mpg City/28 mpg Hwy   \n2015 Volvo V60 Cross Country Specs: 2015.5 4-Do...  20 mpg City/28 mpg Hwy   \n\n                                                                                              2    \\\nUnnamed: 0                                                                                 Engine   \n2019 Acura RDX Specs: FWD w/Technology Pkg                      Turbo Premium Unleaded I-4, 2.0 L   \n2019 Acura RDX Specs: FWD w/Advance Pkg                         Turbo Premium Unleaded I-4, 2.0 L   \n2019 Acura RDX Specs: FWD w/A-Spec Pkg                          Turbo Premium Unleaded I-4, 2.0 L   \n2019 Acura RDX Specs: FWD                                       Turbo Premium Unleaded I-4, 2.0 L   \n2018 Volvo V60 Cross Country Specs: T5 AWD Plat...  Intercooled Turbo Regular Unleaded I-4, 2.0 L   \n2016 Volvo V60 Cross Country Specs: 4-Door Wago...  Intercooled Turbo Regular Unleaded I-5, 2.5 L   \n2016 Volvo V60 Cross Country Specs: 4-Door Wago...  Intercooled Turbo Regular Unleaded I-5, 2.5 L   \n2015 Volvo V60 Cross Country Specs: 2015.5 4-Do...  Intercooled Turbo Regular Unleaded I-5, 2.5 L   \n2015 Volvo V60 Cross Country Specs: 2015.5 4-Do...  Intercooled Turbo Regular Unleaded I-5, 2.5 L   \n\n                                                                                 3    \\\nUnnamed: 0                                                                 EPA Class   \n2019 Acura RDX Specs: FWD w/Technology Pkg          Small Sport Utility Vehicles 2WD   \n2019 Acura RDX Specs: FWD w/Advance Pkg             Small Sport Utility Vehicles 2WD   \n2019 Acura RDX Specs: FWD w/A-Spec Pkg              Small Sport Utility Vehicles 2WD   \n2019 Acura RDX Specs: FWD                           Small Sport Utility Vehicles 2WD   \n2018 Volvo V60 Cross Country Specs: T5 AWD Plat...            Mid-Size Station Wagon   \n2016 Volvo V60 Cross Country Specs: 4-Door Wago...            Mid-Size Station Wagon   \n2016 Volvo V60 Cross Country Specs: 4-Door Wago...            Mid-Size Station Wagon   \n2015 Volvo V60 Cross Country Specs: 2015.5 4-Do...            Mid-Size Station Wagon   \n2015 Volvo V60 Cross Country Specs: 2015.5 4-Do...            Mid-Size Station Wagon   \n\n                                                                               4    \\\nUnnamed: 0                                                              Style Name   \n2019 Acura RDX Specs: FWD w/Technology Pkg                    FWD w/Technology Pkg   \n2019 Acura RDX Specs: FWD w/Advance Pkg                          FWD w/Advance Pkg   \n2019 Acura RDX Specs: FWD w/A-Spec Pkg                            FWD w/A-Spec Pkg   \n2019 Acura RDX Specs: FWD                                                      FWD   \n2018 Volvo V60 Cross Country Specs: T5 AWD Plat...                 T5 AWD Platinum   \n2016 Volvo V60 Cross Country Specs: 4-Door Wago...                  4dr Wgn T5 AWD   \n2016 Volvo V60 Cross Country Specs: 4-Door Wago...         4dr Wgn T5 Platinum AWD   \n2015 Volvo V60 Cross Country Specs: 2015.5 4-Do...           2015.5 4dr Wgn T5 AWD   \n2015 Volvo V60 Cross Country Specs: 2015.5 4-Do...  2015.5 4dr Wgn T5 Platinum AWD   \n\n                                                                  5    \\\nUnnamed: 0                                                 Drivetrain   \n2019 Acura RDX Specs: FWD w/Technology Pkg          Front Wheel Drive   \n2019 Acura RDX Specs: FWD w/Advance Pkg             Front Wheel Drive   \n2019 Acura RDX Specs: FWD w/A-Spec Pkg              Front Wheel Drive   \n2019 Acura RDX Specs: FWD                           Front Wheel Drive   \n2018 Volvo V60 Cross Country Specs: T5 AWD Plat...    All Wheel Drive   \n2016 Volvo V60 Cross Country Specs: 4-Door Wago...    All Wheel Drive   \n2016 Volvo V60 Cross Country Specs: 4-Door Wago...    All Wheel Drive   \n2015 Volvo V60 Cross Country Specs: 2015.5 4-Do...    All Wheel Drive   \n2015 Volvo V60 Cross Country Specs: 2015.5 4-Do...    All Wheel Drive   \n\n                                                                   6    \\\nUnnamed: 0                                          Passenger Capacity   \n2019 Acura RDX Specs: FWD w/Technology Pkg                           5   \n2019 Acura RDX Specs: FWD w/Advance Pkg                              5   \n2019 Acura RDX Specs: FWD w/A-Spec Pkg                               5   \n2019 Acura RDX Specs: FWD                                            5   \n2018 Volvo V60 Cross Country Specs: T5 AWD Plat...                   5   \n2016 Volvo V60 Cross Country Specs: 4-Door Wago...                   5   \n2016 Volvo V60 Cross Country Specs: 4-Door Wago...                   5   \n2015 Volvo V60 Cross Country Specs: 2015.5 4-Do...                   5   \n2015 Volvo V60 Cross Country Specs: 2015.5 4-Do...                   5   \n\n                                                                7    \\\nUnnamed: 0                                          Passenger Doors   \n2019 Acura RDX Specs: FWD w/Technology Pkg                        4   \n2019 Acura RDX Specs: FWD w/Advance Pkg                           4   \n2019 Acura RDX Specs: FWD w/A-Spec Pkg                            4   \n2019 Acura RDX Specs: FWD                                         4   \n2018 Volvo V60 Cross Country Specs: T5 AWD Plat...                4   \n2016 Volvo V60 Cross Country Specs: 4-Door Wago...                4   \n2016 Volvo V60 Cross Country Specs: 4-Door Wago...                4   \n2015 Volvo V60 Cross Country Specs: 2015.5 4-Do...                4   \n2015 Volvo V60 Cross Country Specs: 2015.5 4-Do...                4   \n\n                                                              8    \\\nUnnamed: 0                                             Body Style   \n2019 Acura RDX Specs: FWD w/Technology Pkg          Sport Utility   \n2019 Acura RDX Specs: FWD w/Advance Pkg             Sport Utility   \n2019 Acura RDX Specs: FWD w/A-Spec Pkg              Sport Utility   \n2019 Acura RDX Specs: FWD                           Sport Utility   \n2018 Volvo V60 Cross Country Specs: T5 AWD Plat...        4dr Car   \n2016 Volvo V60 Cross Country Specs: 4-Door Wago...        4dr Car   \n2016 Volvo V60 Cross Country Specs: 4-Door Wago...        4dr Car   \n2015 Volvo V60 Cross Country Specs: 2015.5 4-Do...        4dr Car   \n2015 Volvo V60 Cross Country Specs: 2015.5 4-Do...        4dr Car   \n\n                                                                                                  9    \\\nUnnamed: 0                                                                               Transmission   \n2019 Acura RDX Specs: FWD w/Technology Pkg          Transmission: 10-Speed Automatic -inc: sequent...   \n2019 Acura RDX Specs: FWD w/Advance Pkg             Transmission: 10-Speed Automatic -inc: sequent...   \n2019 Acura RDX Specs: FWD w/A-Spec Pkg              Transmission: 10-Speed Automatic -inc: sequent...   \n2019 Acura RDX Specs: FWD                           Transmission: 10-Speed Automatic -inc: sequent...   \n2018 Volvo V60 Cross Country Specs: T5 AWD Plat...  Transmission: 8-Speed Geartronic Automatic -in...   \n2016 Volvo V60 Cross Country Specs: 4-Door Wago...  Transmission: 6-Speed Geartronic Automatic -in...   \n2016 Volvo V60 Cross Country Specs: 4-Door Wago...  Transmission: 6-Speed Geartronic Automatic -in...   \n2015 Volvo V60 Cross Country Specs: 2015.5 4-Do...  Transmission: 6-Speed Geartronic Automatic -in...   \n2015 Volvo V60 Cross Country Specs: 2015.5 4-Do...  Transmission: 6-Speed Geartronic Automatic -in...   \n\n                                                    ...                   224  \\\nUnnamed: 0                                          ...  Fourth Hip Room (in)   \n2019 Acura RDX Specs: FWD w/Technology Pkg          ...                   NaN   \n2019 Acura RDX Specs: FWD w/Advance Pkg             ...                   NaN   \n2019 Acura RDX Specs: FWD w/A-Spec Pkg              ...                   NaN   \n2019 Acura RDX Specs: FWD                           ...                   NaN   \n2018 Volvo V60 Cross Country Specs: T5 AWD Plat...  ...                   NaN   \n2016 Volvo V60 Cross Country Specs: 4-Door Wago...  ...                   NaN   \n2016 Volvo V60 Cross Country Specs: 4-Door Wago...  ...                   NaN   \n2015 Volvo V60 Cross Country Specs: 2015.5 4-Do...  ...                   NaN   \n2015 Volvo V60 Cross Country Specs: 2015.5 4-Do...  ...                   NaN   \n\n                                                                     225  \\\nUnnamed: 0                                          Fourth Leg Room (in)   \n2019 Acura RDX Specs: FWD w/Technology Pkg                           NaN   \n2019 Acura RDX Specs: FWD w/Advance Pkg                              NaN   \n2019 Acura RDX Specs: FWD w/A-Spec Pkg                               NaN   \n2019 Acura RDX Specs: FWD                                            NaN   \n2018 Volvo V60 Cross Country Specs: T5 AWD Plat...                   NaN   \n2016 Volvo V60 Cross Country Specs: 4-Door Wago...                   NaN   \n2016 Volvo V60 Cross Country Specs: 4-Door Wago...                   NaN   \n2015 Volvo V60 Cross Country Specs: 2015.5 4-Do...                   NaN   \n2015 Volvo V60 Cross Country Specs: 2015.5 4-Do...                   NaN   \n\n                                                                          226  \\\nUnnamed: 0                                          Fourth Shoulder Room (in)   \n2019 Acura RDX Specs: FWD w/Technology Pkg                                NaN   \n2019 Acura RDX Specs: FWD w/Advance Pkg                                   NaN   \n2019 Acura RDX Specs: FWD w/A-Spec Pkg                                    NaN   \n2019 Acura RDX Specs: FWD                                                 NaN   \n2018 Volvo V60 Cross Country Specs: T5 AWD Plat...                        NaN   \n2016 Volvo V60 Cross Country Specs: 4-Door Wago...                        NaN   \n2016 Volvo V60 Cross Country Specs: 4-Door Wago...                        NaN   \n2015 Volvo V60 Cross Country Specs: 2015.5 4-Do...                        NaN   \n2015 Volvo V60 Cross Country Specs: 2015.5 4-Do...                        NaN   \n\n                                                                      227  \\\nUnnamed: 0                                          Fourth Head Room (in)   \n2019 Acura RDX Specs: FWD w/Technology Pkg                            NaN   \n2019 Acura RDX Specs: FWD w/Advance Pkg                               NaN   \n2019 Acura RDX Specs: FWD w/A-Spec Pkg                                NaN   \n2019 Acura RDX Specs: FWD                                             NaN   \n2018 Volvo V60 Cross Country Specs: T5 AWD Plat...                    NaN   \n2016 Volvo V60 Cross Country Specs: 4-Door Wago...                    NaN   \n2016 Volvo V60 Cross Country Specs: 4-Door Wago...                    NaN   \n2015 Volvo V60 Cross Country Specs: 2015.5 4-Do...                    NaN   \n2015 Volvo V60 Cross Country Specs: 2015.5 4-Do...                    NaN   \n\n                                                                         228  \\\nUnnamed: 0                                          Fifth Shoulder Room (in)   \n2019 Acura RDX Specs: FWD w/Technology Pkg                               NaN   \n2019 Acura RDX Specs: FWD w/Advance Pkg                                  NaN   \n2019 Acura RDX Specs: FWD w/A-Spec Pkg                                   NaN   \n2019 Acura RDX Specs: FWD                                                NaN   \n2018 Volvo V60 Cross Country Specs: T5 AWD Plat...                       NaN   \n2016 Volvo V60 Cross Country Specs: 4-Door Wago...                       NaN   \n2016 Volvo V60 Cross Country Specs: 4-Door Wago...                       NaN   \n2015 Volvo V60 Cross Country Specs: 2015.5 4-Do...                       NaN   \n2015 Volvo V60 Cross Country Specs: 2015.5 4-Do...                       NaN   \n\n                                                                     229  \\\nUnnamed: 0                                          Fifth Head Room (in)   \n2019 Acura RDX Specs: FWD w/Technology Pkg                           NaN   \n2019 Acura RDX Specs: FWD w/Advance Pkg                              NaN   \n2019 Acura RDX Specs: FWD w/A-Spec Pkg                               NaN   \n2019 Acura RDX Specs: FWD                                            NaN   \n2018 Volvo V60 Cross Country Specs: T5 AWD Plat...                   NaN   \n2016 Volvo V60 Cross Country Specs: 4-Door Wago...                   NaN   \n2016 Volvo V60 Cross Country Specs: 4-Door Wago...                   NaN   \n2015 Volvo V60 Cross Country Specs: 2015.5 4-Do...                   NaN   \n2015 Volvo V60 Cross Country Specs: 2015.5 4-Do...                   NaN   \n\n                                                                    230  \\\nUnnamed: 0                                          Fifth Hip Room (in)   \n2019 Acura RDX Specs: FWD w/Technology Pkg                          NaN   \n2019 Acura RDX Specs: FWD w/Advance Pkg                             NaN   \n2019 Acura RDX Specs: FWD w/A-Spec Pkg                              NaN   \n2019 Acura RDX Specs: FWD                                           NaN   \n2018 Volvo V60 Cross Country Specs: T5 AWD Plat...                  NaN   \n2016 Volvo V60 Cross Country Specs: 4-Door Wago...                  NaN   \n2016 Volvo V60 Cross Country Specs: 4-Door Wago...                  NaN   \n2015 Volvo V60 Cross Country Specs: 2015.5 4-Do...                  NaN   \n2015 Volvo V60 Cross Country Specs: 2015.5 4-Do...                  NaN   \n\n                                                                    231  \\\nUnnamed: 0                                          Fifth Leg Room (in)   \n2019 Acura RDX Specs: FWD w/Technology Pkg                          NaN   \n2019 Acura RDX Specs: FWD w/Advance Pkg                             NaN   \n2019 Acura RDX Specs: FWD w/A-Spec Pkg                              NaN   \n2019 Acura RDX Specs: FWD                                           NaN   \n2018 Volvo V60 Cross Country Specs: T5 AWD Plat...                  NaN   \n2016 Volvo V60 Cross Country Specs: 4-Door Wago...                  NaN   \n2016 Volvo V60 Cross Country Specs: 4-Door Wago...                  NaN   \n2015 Volvo V60 Cross Country Specs: 2015.5 4-Do...                  NaN   \n2015 Volvo V60 Cross Country Specs: 2015.5 4-Do...                  NaN   \n\n                                                               232  \\\nUnnamed: 0                                          Corrosion Note   \n2019 Acura RDX Specs: FWD w/Technology Pkg                     NaN   \n2019 Acura RDX Specs: FWD w/Advance Pkg                        NaN   \n2019 Acura RDX Specs: FWD w/A-Spec Pkg                         NaN   \n2019 Acura RDX Specs: FWD                                      NaN   \n2018 Volvo V60 Cross Country Specs: T5 AWD Plat...             NaN   \n2016 Volvo V60 Cross Country Specs: 4-Door Wago...             NaN   \n2016 Volvo V60 Cross Country Specs: 4-Door Wago...             NaN   \n2015 Volvo V60 Cross Country Specs: 2015.5 4-Do...             NaN   \n2015 Volvo V60 Cross Country Specs: 2015.5 4-Do...             NaN   \n\n                                                                                233  \nUnnamed: 0                                          Hybrid/Electric Components Note  \n2019 Acura RDX Specs: FWD w/Technology Pkg                                      NaN  \n2019 Acura RDX Specs: FWD w/Advance Pkg                                         NaN  \n2019 Acura RDX Specs: FWD w/A-Spec Pkg                                          NaN  \n2019 Acura RDX Specs: FWD                                                       NaN  \n2018 Volvo V60 Cross Country Specs: T5 AWD Plat...                              NaN  \n2016 Volvo V60 Cross Country Specs: 4-Door Wago...                              NaN  \n2016 Volvo V60 Cross Country Specs: 4-Door Wago...                              NaN  \n2015 Volvo V60 Cross Country Specs: 2015.5 4-Do...                              NaN  \n2015 Volvo V60 Cross Country Specs: 2015.5 4-Do...                              NaN  \n\n[10 rows x 234 columns] \n\nStructure of Cars:  (32317, 234) \n\n",
      "Summary Statistic's:\n             0                       1             2        3      4    \\\ncount     32263                   26293         30342    30341  32317   \nunique    10229                     366           453      107  11575   \ntop     $29,995  15 mpg City/21 mpg Hwy  Gas I4, 2.0L  No Data  Sedan   \nfreq         64                     660          1050    10422    345   \n\n                     5      6      7        8    \\\ncount              30601  32317  32317    30601   \nunique                25     13      5       25   \ntop     Rear Wheel Drive      5      4  4dr Car   \nfreq                9020  16731  21785     8867   \n\n                                     9    ...    224    225    226    227  \\\ncount                              29603  ...  199.0  199.0  199.0  199.0   \nunique                              1983  ...    9.0    6.0    6.0    6.0   \ntop     5-speed manual transmission w/OD  ...   65.7   36.6   69.1   37.6   \nfreq                                2350  ...   88.0   88.0   88.0   88.0   \n\n                             228                   229                  230  \\\ncount                          1                     1                    1   \nunique                         1                     1                    1   \ntop     Fifth Shoulder Room (in)  Fifth Head Room (in)  Fifth Hip Room (in)   \nfreq                           1                     1                    1   \n\n                        231  \\\ncount                     1   \nunique                    1   \ntop     Fifth Leg Room (in)   \nfreq                      1   \n\n                                                      232  \\\ncount                                                 108   \nunique                                                  4   \ntop     perforation of sheet metal panels - 3 years/36...   \nfreq                                                   94   \n\n                                    233  \ncount                                70  \nunique                                4  \ntop     Applies to hybrid vehicles only  \nfreq                                 45  \n\n[4 rows x 234 columns] \n\n",
      "Count of missing car values:\n 231    32316\n230    32316\n229    32316\n228    32316\n191    32307\n189    32305\n193    32270\n171    32265\n233    32247\n170    32230\n232    32209\n187    32206\n165    32160\n166    32160\n144    32148\n223    32141\n224    32118\n225    32118\n226    32118\n227    32118\n186    32088\n159    32048\n160    32037\n184    31835\n180    31749\n147    31705\n182    31447\n137    31441\n138    31441\n192    31363\n       ...  \n68      1971\n74      1969\n72      1969\n60      1969\n62      1969\n8       1716\n5       1716\n98      1700\n0         54\n95         0\n85         0\n80         0\n81         0\n82         0\n4          0\n83         0\n6          0\n7          0\n84         0\n86         0\n94         0\n88         0\n89         0\n90         0\n91         0\n92         0\n97         0\n93         0\n96         0\n87         0\nLength: 234, dtype: int64 \n\n"
     ],
     "output_type": "stream"
    }
   ],
   "source": [
    "\n",
    "print(df_cars.head().append(df_cars.tail()), \"\\n\")\n",
    "print(\"Structure of Cars: \",df_cars.shape,\"\\n\")\n",
    "print(\"Summary Statistic's:\\n\",df_cars.describe(),\"\\n\")\n",
    "print(\"Count of missing car values:\\n\",df_cars.isnull().sum().sort_values(ascending=False),\"\\n\")\n"
   ],
   "metadata": {
    "collapsed": false,
    "pycharm": {
     "name": "#%%\n",
     "is_executing": false
    }
   }
  }
 ],
 "metadata": {
  "language_info": {
   "codemirror_mode": {
    "name": "ipython",
    "version": 2
   },
   "file_extension": ".py",
   "mimetype": "text/x-python",
   "name": "python",
   "nbconvert_exporter": "python",
   "pygments_lexer": "ipython2",
   "version": "2.7.6"
  },
  "kernelspec": {
   "name": "python3",
   "language": "python",
   "display_name": "Python 3"
  },
  "pycharm": {
   "stem_cell": {
    "cell_type": "raw",
    "source": [],
    "metadata": {
     "collapsed": false
    }
   }
  }
 },
 "nbformat": 4,
 "nbformat_minor": 0
}