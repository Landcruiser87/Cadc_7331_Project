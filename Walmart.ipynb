{
 "cells": [
  {
   "cell_type": "markdown",
   "source": [
    "# The Wonderful World of Walmart\n",
    "\n",
    "This notebook begins to explore the retail sales of Walmart over a time period of.  INSERT TIME PERIOD.\n",
    "We will be predicting sales price per store. \n",
    "\n",
    "The data source is below\n",
    "\n",
    "https://www.kaggle.com/c/walmart-recruiting-store-sales-forecasting/data\n",
    "\n",
    "First things first, lets import and take a peek at our data.\n"
   ],
   "metadata": {
    "collapsed": false
   }
  },
  {
   "cell_type": "code",
   "execution_count": 2,
   "outputs": [
    {
     "name": "stdout",
     "text": [
      "<class 'pandas.core.frame.DataFrame'>\nInt64Index: 8190 entries, 0 to 8189\nData columns (total 14 columns):\nStore           8190 non-null int64\nType            8190 non-null object\nSize            8190 non-null int64\nDate            8190 non-null object\nTemperature     8190 non-null float64\nFuel_Price      8190 non-null float64\nMarkDown1       4032 non-null float64\nMarkDown2       2921 non-null float64\nMarkDown3       3613 non-null float64\nMarkDown4       3464 non-null float64\nMarkDown5       4050 non-null float64\nCPI             7605 non-null float64\nUnemployment    7605 non-null float64\nIsHoliday       8190 non-null bool\ndtypes: bool(1), float64(9), int64(2), object(2)\nmemory usage: 903.8+ KB\n"
     ],
     "output_type": "stream"
    },
    {
     "data": {
      "text/plain": "             Store           Size  Temperature   Fuel_Price      MarkDown1  \\\ncount  8190.000000    8190.000000  8190.000000  8190.000000    4032.000000   \nmean     23.000000  130287.600000    59.356198     3.405992    7032.371786   \nstd      12.987966   63115.971429    18.678607     0.431337    9262.747448   \nmin       1.000000   34875.000000    -7.290000     2.472000   -2781.450000   \n25%      12.000000   70713.000000    45.902500     3.041000    1577.532500   \n50%      23.000000  126512.000000    60.710000     3.513000    4743.580000   \n75%      34.000000  202307.000000    73.880000     3.743000    8923.310000   \nmax      45.000000  219622.000000   101.950000     4.468000  103184.980000   \n\n           MarkDown2      MarkDown3     MarkDown4      MarkDown5          CPI  \\\ncount    2921.000000    3613.000000   3464.000000    4050.000000  7605.000000   \nmean     3384.176594    1760.100180   3292.935886    4132.216422   172.460809   \nstd      8793.583016   11276.462208   6792.329861   13086.690278    39.738346   \nmin      -265.760000    -179.260000      0.220000    -185.170000   126.064000   \n25%        68.880000       6.600000    304.687500    1440.827500   132.364839   \n50%       364.570000      36.260000   1176.425000    2727.135000   182.764003   \n75%      2153.350000     163.150000   3310.007500    4832.555000   213.932412   \nmax    104519.540000  149483.310000  67474.850000  771448.100000   228.976456   \n\n       Unemployment  \ncount   7605.000000  \nmean       7.826821  \nstd        1.877259  \nmin        3.684000  \n25%        6.634000  \n50%        7.806000  \n75%        8.567000  \nmax       14.313000  ",
      "text/html": "<div>\n<style scoped>\n    .dataframe tbody tr th:only-of-type {\n        vertical-align: middle;\n    }\n\n    .dataframe tbody tr th {\n        vertical-align: top;\n    }\n\n    .dataframe thead th {\n        text-align: right;\n    }\n</style>\n<table border=\"1\" class=\"dataframe\">\n  <thead>\n    <tr style=\"text-align: right;\">\n      <th></th>\n      <th>Store</th>\n      <th>Size</th>\n      <th>Temperature</th>\n      <th>Fuel_Price</th>\n      <th>MarkDown1</th>\n      <th>MarkDown2</th>\n      <th>MarkDown3</th>\n      <th>MarkDown4</th>\n      <th>MarkDown5</th>\n      <th>CPI</th>\n      <th>Unemployment</th>\n    </tr>\n  </thead>\n  <tbody>\n    <tr>\n      <th>count</th>\n      <td>8190.000000</td>\n      <td>8190.000000</td>\n      <td>8190.000000</td>\n      <td>8190.000000</td>\n      <td>4032.000000</td>\n      <td>2921.000000</td>\n      <td>3613.000000</td>\n      <td>3464.000000</td>\n      <td>4050.000000</td>\n      <td>7605.000000</td>\n      <td>7605.000000</td>\n    </tr>\n    <tr>\n      <th>mean</th>\n      <td>23.000000</td>\n      <td>130287.600000</td>\n      <td>59.356198</td>\n      <td>3.405992</td>\n      <td>7032.371786</td>\n      <td>3384.176594</td>\n      <td>1760.100180</td>\n      <td>3292.935886</td>\n      <td>4132.216422</td>\n      <td>172.460809</td>\n      <td>7.826821</td>\n    </tr>\n    <tr>\n      <th>std</th>\n      <td>12.987966</td>\n      <td>63115.971429</td>\n      <td>18.678607</td>\n      <td>0.431337</td>\n      <td>9262.747448</td>\n      <td>8793.583016</td>\n      <td>11276.462208</td>\n      <td>6792.329861</td>\n      <td>13086.690278</td>\n      <td>39.738346</td>\n      <td>1.877259</td>\n    </tr>\n    <tr>\n      <th>min</th>\n      <td>1.000000</td>\n      <td>34875.000000</td>\n      <td>-7.290000</td>\n      <td>2.472000</td>\n      <td>-2781.450000</td>\n      <td>-265.760000</td>\n      <td>-179.260000</td>\n      <td>0.220000</td>\n      <td>-185.170000</td>\n      <td>126.064000</td>\n      <td>3.684000</td>\n    </tr>\n    <tr>\n      <th>25%</th>\n      <td>12.000000</td>\n      <td>70713.000000</td>\n      <td>45.902500</td>\n      <td>3.041000</td>\n      <td>1577.532500</td>\n      <td>68.880000</td>\n      <td>6.600000</td>\n      <td>304.687500</td>\n      <td>1440.827500</td>\n      <td>132.364839</td>\n      <td>6.634000</td>\n    </tr>\n    <tr>\n      <th>50%</th>\n      <td>23.000000</td>\n      <td>126512.000000</td>\n      <td>60.710000</td>\n      <td>3.513000</td>\n      <td>4743.580000</td>\n      <td>364.570000</td>\n      <td>36.260000</td>\n      <td>1176.425000</td>\n      <td>2727.135000</td>\n      <td>182.764003</td>\n      <td>7.806000</td>\n    </tr>\n    <tr>\n      <th>75%</th>\n      <td>34.000000</td>\n      <td>202307.000000</td>\n      <td>73.880000</td>\n      <td>3.743000</td>\n      <td>8923.310000</td>\n      <td>2153.350000</td>\n      <td>163.150000</td>\n      <td>3310.007500</td>\n      <td>4832.555000</td>\n      <td>213.932412</td>\n      <td>8.567000</td>\n    </tr>\n    <tr>\n      <th>max</th>\n      <td>45.000000</td>\n      <td>219622.000000</td>\n      <td>101.950000</td>\n      <td>4.468000</td>\n      <td>103184.980000</td>\n      <td>104519.540000</td>\n      <td>149483.310000</td>\n      <td>67474.850000</td>\n      <td>771448.100000</td>\n      <td>228.976456</td>\n      <td>14.313000</td>\n    </tr>\n  </tbody>\n</table>\n</div>"
     },
     "metadata": {},
     "output_type": "execute_result",
     "execution_count": 2
    }
   ],
   "source": [
    "import pandas as pd\n",
    "\n",
    "train = pd.read_csv('Data/train.csv', sep = ',') # read in the training data \n",
    "feat = pd.read_csv('Data/features.csv', sep = ',') # Read in feature Data\n",
    "stores = pd.read_csv('Data/stores.csv', sep = ',') # read in the store data \n",
    "df = train.merge(stores, on='Store', how='left').merge(feat, on='Store', how='left')\n",
    "\n",
    "df.info()\n",
    "df.describe()\n",
    "\n"
   ],
   "metadata": {
    "collapsed": false,
    "pycharm": {
     "name": "#%%\n",
     "is_executing": false
    }
   }
  },
  {
   "cell_type": "markdown",
   "source": [
    "Now that we've got some basics down, how big of a dataset are we looking at here. \n"
   ],
   "metadata": {
    "collapsed": false
   }
  }
 ],
 "metadata": {
  "language_info": {
   "codemirror_mode": {
    "name": "ipython",
    "version": 2
   },
   "file_extension": ".py",
   "mimetype": "text/x-python",
   "name": "python",
   "nbconvert_exporter": "python",
   "pygments_lexer": "ipython2",
   "version": "2.7.6"
  },
  "kernelspec": {
   "name": "conda-env-miner-py",
   "language": "python",
   "display_name": "Python [conda env:miner] *"
  },
  "pycharm": {
   "stem_cell": {
    "cell_type": "raw",
    "source": [],
    "metadata": {
     "collapsed": false
    }
   }
  }
 },
 "nbformat": 4,
 "nbformat_minor": 0
}