{
 "cells": [
  {
   "cell_type": "markdown",
   "metadata": {
    "collapsed": true,
    "pycharm": {
     "name": "#%% md\n"
    }
   },
   "source": [
    "# The Wonderful World of cars\n",
    "\n",
    "This notebook begins to explore the retail sales of a cars dataset scraped by one gracious\n",
    " reddit user, We will be predicting Price first, but lets see where the day takes us\n",
    "\n",
    "The data source is below\n",
    "\n",
    "https://www.reddit.com/r/datasets/comments/b6rcwv/i_scraped_32000_cars_including_the_price_and_115/\n",
    "\n",
    "First things first, lets import our librarie and take a peek at our data.\n"
   ]
  },
  {
   "cell_type": "code",
   "execution_count": null,
   "outputs": [],
   "source": [
    "#Add library references\n",
    "import pandas as pd\n"
   ],
   "metadata": {
    "collapsed": false,
    "pycharm": {
     "name": "#%%\n"
    }
   }
  },
  {
   "cell_type": "code",
   "execution_count": null,
   "outputs": [],
   "source": [
    "#Upload Data\n",
    "\n",
    "df_cars = pd.read_csv('Data/train.csv', sep = ',') # read in the training data\n"
   ],
   "metadata": {
    "collapsed": false,
    "pycharm": {
     "name": "#%%\n"
    }
   }
  },
  {
   "cell_type": "markdown",
   "source": [
    "Now that we've got the data inputted, let's begin our EDA process by looking at our datatypes and\n",
    "overall shape of the data.\n"
   ],
   "metadata": {
    "collapsed": false
   }
  },
  {
   "cell_type": "code",
   "execution_count": null,
   "outputs": [],
   "source": [
    "\n",
    "print(feat.head().append(feat.tail()), \"\\n\")\n",
    "print(\"Structure of Feature: \",df_cars.shape,\"\\n\")\n",
    "print(\"Summary Statistic:\\n\",df_cars.describe(),\"\\n\")\n",
    "print(\"Count of missing feature values:\\n\",df_cars.isnull().sum().sort_values(ascending=False),\"\\n\")\n"
   ],
   "metadata": {
    "collapsed": false,
    "pycharm": {
     "name": "#%%\n"
    }
   }
  }
 ],
 "metadata": {
  "language_info": {
   "codemirror_mode": {
    "name": "ipython",
    "version": 2
   },
   "file_extension": ".py",
   "mimetype": "text/x-python",
   "name": "python",
   "nbconvert_exporter": "python",
   "pygments_lexer": "ipython2",
   "version": "2.7.6"
  },
  "kernelspec": {
   "name": "python3",
   "language": "python",
   "display_name": "Python 3"
  },
  "pycharm": {
   "stem_cell": {
    "cell_type": "raw",
    "source": [],
    "metadata": {
     "collapsed": false
    }
   }
  }
 },
 "nbformat": 4,
 "nbformat_minor": 0
}