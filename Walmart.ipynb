{
 "cells": [
  {
   "cell_type": "markdown",
   "source": [
    "# The Wonderful World of Walmart\n",
    "\n",
    "This notebook begins to explore the retail sales of Walmart over a time period of.  INSERT TIME PERIOD.\n",
    "We will be predicting sales price per store. \n",
    "\n",
    "The data source is below\n",
    "\n",
    "https://www.kaggle.com/c/walmart-recruiting-store-sales-forecasting/data\n",
    "\n",
    "First things first, lets import our librarieand take a peek at our data.\n"
   ],
   "metadata": {
    "collapsed": false
   }
  },
  {
   "cell_type": "code",
   "execution_count": 1,
   "outputs": [],
   "source": [
    "import pandas as pd\n",
    "\n",
    "train = pd.read_csv('Data/train.csv', sep = ',') # read in the training data \n",
    "feat = pd.read_csv('Data/features.csv', sep = ',') # Read in feature Data\n",
    "stores = pd.read_csv('Data/stores.csv', sep = ',') # read in the store data \n",
    "\n",
    "#leaving the merge out for a second to look at individual file stats\n",
    "#Merging it yields 76 million rows\n",
    "\n"
   ],
   "metadata": {
    "collapsed": false,
    "pycharm": {
     "name": "#%%\n",
     "is_executing": false
    }
   }
  },
  {
   "cell_type": "markdown",
   "source": [
    "Now that we've got the data inputted, let's begin our EDA process by looking at our datatypes and\n",
    "overall shape of the data.\n"
   ],
   "metadata": {
    "collapsed": false
   }
  },
  {
   "cell_type": "code",
   "execution_count": 6,
   "outputs": [
    {
     "name": "stdout",
     "text": [
      "    Store Type    Size\n0       1    A  151315\n1       2    A  202307\n2       3    B   37392\n3       4    A  205863\n4       5    B   34875\n40     41    A  196321\n41     42    C   39690\n42     43    C   41062\n43     44    C   39910\n44     45    B  118221 \n\nCount of missing store values:\n Size     0\nType     0\nStore    0\ndtype: int64 \n\n      Store        Date  Temperature  Fuel_Price  MarkDown1  MarkDown2  \\\n0         1  2010-02-05        42.31       2.572        NaN        NaN   \n1         1  2010-02-12        38.51       2.548        NaN        NaN   \n2         1  2010-02-19        39.93       2.514        NaN        NaN   \n3         1  2010-02-26        46.63       2.561        NaN        NaN   \n4         1  2010-03-05        46.50       2.625        NaN        NaN   \n8185     45  2013-06-28        76.05       3.639    4842.29     975.03   \n8186     45  2013-07-05        77.50       3.614    9090.48    2268.58   \n8187     45  2013-07-12        79.37       3.614    3789.94    1827.31   \n8188     45  2013-07-19        82.84       3.737    2961.49    1047.07   \n8189     45  2013-07-26        76.06       3.804     212.02     851.73   \n\n      MarkDown3  MarkDown4  MarkDown5         CPI  Unemployment  IsHoliday  \n0           NaN        NaN        NaN  211.096358         8.106      False  \n1           NaN        NaN        NaN  211.242170         8.106       True  \n2           NaN        NaN        NaN  211.289143         8.106      False  \n3           NaN        NaN        NaN  211.319643         8.106      False  \n4           NaN        NaN        NaN  211.350143         8.106      False  \n8185       3.00    2449.97    3169.69         NaN           NaN      False  \n8186     582.74    5797.47    1514.93         NaN           NaN      False  \n8187      85.72     744.84    2150.36         NaN           NaN      False  \n8188     204.19     363.00    1059.46         NaN           NaN      False  \n8189       2.06      10.88    1864.57         NaN           NaN      False   \n\nStructure of Feature:  (8190, 12) \n\nSummary Statistic:\n              Store  Temperature   Fuel_Price      MarkDown1      MarkDown2  \\\ncount  8190.000000  8190.000000  8190.000000    4032.000000    2921.000000   \nmean     23.000000    59.356198     3.405992    7032.371786    3384.176594   \nstd      12.987966    18.678607     0.431337    9262.747448    8793.583016   \nmin       1.000000    -7.290000     2.472000   -2781.450000    -265.760000   \n25%      12.000000    45.902500     3.041000    1577.532500      68.880000   \n50%      23.000000    60.710000     3.513000    4743.580000     364.570000   \n75%      34.000000    73.880000     3.743000    8923.310000    2153.350000   \nmax      45.000000   101.950000     4.468000  103184.980000  104519.540000   \n\n           MarkDown3     MarkDown4      MarkDown5          CPI  Unemployment  \ncount    3613.000000   3464.000000    4050.000000  7605.000000   7605.000000  \nmean     1760.100180   3292.935886    4132.216422   172.460809      7.826821  \nstd     11276.462208   6792.329861   13086.690278    39.738346      1.877259  \nmin      -179.260000      0.220000    -185.170000   126.064000      3.684000  \n25%         6.600000    304.687500    1440.827500   132.364839      6.634000  \n50%        36.260000   1176.425000    2727.135000   182.764003      7.806000  \n75%       163.150000   3310.007500    4832.555000   213.932412      8.567000  \nmax    149483.310000  67474.850000  771448.100000   228.976456     14.313000   \n\nCount of missing feature values:\n MarkDown2       5269\nMarkDown4       4726\nMarkDown3       4577\nMarkDown1       4158\nMarkDown5       4140\nUnemployment     585\nCPI              585\nIsHoliday          0\nFuel_Price         0\nTemperature        0\nDate               0\nStore              0\ndtype: int64 \n\n        Store  Dept        Date  Weekly_Sales  IsHoliday\n0           1     1  2010-02-05      24924.50      False\n1           1     1  2010-02-12      46039.49       True\n2           1     1  2010-02-19      41595.55      False\n3           1     1  2010-02-26      19403.54      False\n4           1     1  2010-03-05      21827.90      False\n421565     45    98  2012-09-28        508.37      False\n421566     45    98  2012-10-05        628.10      False\n421567     45    98  2012-10-12       1061.02      False\n421568     45    98  2012-10-19        760.01      False\n421569     45    98  2012-10-26       1076.80      False \n\nStructure of train:\n (421570, 5) \n\nSummary Statistic:\n",
      "                Store           Dept   Weekly_Sales\ncount  421570.000000  421570.000000  421570.000000\nmean       22.200546      44.260317   15981.258123\nstd        12.785297      30.492054   22711.183519\nmin         1.000000       1.000000   -4988.940000\n25%        11.000000      18.000000    2079.650000\n50%        22.000000      37.000000    7612.030000\n75%        33.000000      74.000000   20205.852500\nmax        45.000000      99.000000  693099.360000 \n\nCount of missing training values:\n IsHoliday       0\nWeekly_Sales    0\nDate            0\nDept            0\nStore           0\ndtype: int64 \n\n"
     ],
     "output_type": "stream"
    }
   ],
   "source": [
    "#Store Data\n",
    "print(stores.head().append(stores.tail()), \"\\n\")\n",
    "print(\"Count of missing store values:\\n\", stores.isnull().sum().sort_values(ascending=False), \"\\n\")\n",
    "\n",
    "#Feature Data\n",
    "print(feat.head().append(feat.tail()), \"\\n\")\n",
    "print(\"Structure of Feature: \",feat.shape,\"\\n\")\n",
    "print(\"Summary Statistic:\\n\",feat.describe(),\"\\n\")\n",
    "print(\"Count of missing feature values:\\n\",feat.isnull().sum().sort_values(ascending=False),\"\\n\")\n",
    "\n",
    "#Training Data\n",
    "print(train.head().append(train.tail()),\"\\n\")\n",
    "print(\"Structure of train:\\n\",train.shape,\"\\n\")\n",
    "print(\"Summary Statistic:\\n\",train.describe(),\"\\n\")\n",
    "print(\"Count of missing training values:\\n\",train.isnull().sum().sort_values(ascending=False),\"\\n\")\n",
    "\n",
    "#df.info()\n",
    "#df.shape\n",
    "\n"
   ],
   "metadata": {
    "collapsed": false,
    "pycharm": {
     "name": "#%%\n",
     "is_executing": false
    }
   }
  },
  {
   "cell_type": "markdown",
   "source": [
    "Alright, with some basic statistics above we can now consider merging the datasets into something\n",
    "more useable.  \n"
   ],
   "metadata": {
    "collapsed": false
   }
  },
  {
   "cell_type": "code",
   "execution_count": 11,
   "outputs": [
    {
     "data": {
      "text/plain": "              Store          Dept  Weekly_Sales          Size   Temperature  \\\ncount  7.672574e+07  7.672574e+07  7.672574e+07  7.672574e+07  7.672574e+07   \nmean   2.220055e+01  4.426032e+01  1.598147e+04  1.367279e+05  5.882304e+01   \nstd    1.278528e+01  3.049202e+01  2.271101e+04  6.098051e+04  1.868010e+01   \nmin    1.000000e+00  1.000000e+00  0.000000e+00  3.487500e+04 -7.290000e+00   \n25%    1.100000e+01  1.800000e+01  2.079640e+03  9.363800e+04  4.529000e+01   \n50%    2.200000e+01  3.700000e+01  7.612030e+03  1.401670e+05  6.009000e+01   \n75%    3.300000e+01  7.400000e+01  2.020586e+04  2.025050e+05  7.329000e+01   \nmax    4.500000e+01  9.900000e+01  6.930994e+05  2.196220e+05  1.019500e+02   \n\n         Fuel_Price     MarkDown1     MarkDown2     MarkDown3     MarkDown4  \\\ncount  7.672574e+07  7.672574e+07  7.672574e+07  7.672574e+07  7.672574e+07   \nmean   3.407146e+00  3.675855e+03  1.286081e+03  8.273969e+02  1.487130e+03   \nstd    4.311720e-01  7.591808e+03  5.694505e+03  7.807900e+03  4.860260e+03   \nmin    2.472000e+00 -2.781450e+03  0.000000e+00  0.000000e+00  0.000000e+00   \n25%    3.039000e+00  0.000000e+00  0.000000e+00  0.000000e+00  0.000000e+00   \n50%    3.521000e+00  0.000000e+00  0.000000e+00  0.000000e+00  0.000000e+00   \n75%    3.743000e+00  5.037950e+03  1.172000e+02  2.891000e+01  9.043400e+02   \nmax    4.468000e+00  1.031850e+05  1.045195e+05  1.494833e+05  6.747485e+04   \n\n          MarkDown5           CPI  Unemployment  \ncount  7.672574e+07  7.672574e+07  7.672574e+07  \nmean   2.140667e+03  1.597750e+02  7.238855e+00  \nstd    9.774241e+03  5.843843e+01  2.695273e+00  \nmin   -1.851700e+02  0.000000e+00  0.000000e+00  \n25%    0.000000e+00  1.311267e+02  6.338000e+00  \n50%    0.000000e+00  1.404348e+02  7.567000e+00  \n75%    2.850100e+03  2.122360e+02  8.512000e+00  \nmax    7.714481e+05  2.289765e+02  1.431300e+01  ",
      "text/html": "<div>\n<style scoped>\n    .dataframe tbody tr th:only-of-type {\n        vertical-align: middle;\n    }\n\n    .dataframe tbody tr th {\n        vertical-align: top;\n    }\n\n    .dataframe thead th {\n        text-align: right;\n    }\n</style>\n<table border=\"1\" class=\"dataframe\">\n  <thead>\n    <tr style=\"text-align: right;\">\n      <th></th>\n      <th>Store</th>\n      <th>Dept</th>\n      <th>Weekly_Sales</th>\n      <th>Size</th>\n      <th>Temperature</th>\n      <th>Fuel_Price</th>\n      <th>MarkDown1</th>\n      <th>MarkDown2</th>\n      <th>MarkDown3</th>\n      <th>MarkDown4</th>\n      <th>MarkDown5</th>\n      <th>CPI</th>\n      <th>Unemployment</th>\n    </tr>\n  </thead>\n  <tbody>\n    <tr>\n      <th>count</th>\n      <td>7.672574e+07</td>\n      <td>7.672574e+07</td>\n      <td>7.672574e+07</td>\n      <td>7.672574e+07</td>\n      <td>7.672574e+07</td>\n      <td>7.672574e+07</td>\n      <td>7.672574e+07</td>\n      <td>7.672574e+07</td>\n      <td>7.672574e+07</td>\n      <td>7.672574e+07</td>\n      <td>7.672574e+07</td>\n      <td>7.672574e+07</td>\n      <td>7.672574e+07</td>\n    </tr>\n    <tr>\n      <th>mean</th>\n      <td>2.220055e+01</td>\n      <td>4.426032e+01</td>\n      <td>1.598147e+04</td>\n      <td>1.367279e+05</td>\n      <td>5.882304e+01</td>\n      <td>3.407146e+00</td>\n      <td>3.675855e+03</td>\n      <td>1.286081e+03</td>\n      <td>8.273969e+02</td>\n      <td>1.487130e+03</td>\n      <td>2.140667e+03</td>\n      <td>1.597750e+02</td>\n      <td>7.238855e+00</td>\n    </tr>\n    <tr>\n      <th>std</th>\n      <td>1.278528e+01</td>\n      <td>3.049202e+01</td>\n      <td>2.271101e+04</td>\n      <td>6.098051e+04</td>\n      <td>1.868010e+01</td>\n      <td>4.311720e-01</td>\n      <td>7.591808e+03</td>\n      <td>5.694505e+03</td>\n      <td>7.807900e+03</td>\n      <td>4.860260e+03</td>\n      <td>9.774241e+03</td>\n      <td>5.843843e+01</td>\n      <td>2.695273e+00</td>\n    </tr>\n    <tr>\n      <th>min</th>\n      <td>1.000000e+00</td>\n      <td>1.000000e+00</td>\n      <td>0.000000e+00</td>\n      <td>3.487500e+04</td>\n      <td>-7.290000e+00</td>\n      <td>2.472000e+00</td>\n      <td>-2.781450e+03</td>\n      <td>0.000000e+00</td>\n      <td>0.000000e+00</td>\n      <td>0.000000e+00</td>\n      <td>-1.851700e+02</td>\n      <td>0.000000e+00</td>\n      <td>0.000000e+00</td>\n    </tr>\n    <tr>\n      <th>25%</th>\n      <td>1.100000e+01</td>\n      <td>1.800000e+01</td>\n      <td>2.079640e+03</td>\n      <td>9.363800e+04</td>\n      <td>4.529000e+01</td>\n      <td>3.039000e+00</td>\n      <td>0.000000e+00</td>\n      <td>0.000000e+00</td>\n      <td>0.000000e+00</td>\n      <td>0.000000e+00</td>\n      <td>0.000000e+00</td>\n      <td>1.311267e+02</td>\n      <td>6.338000e+00</td>\n    </tr>\n    <tr>\n      <th>50%</th>\n      <td>2.200000e+01</td>\n      <td>3.700000e+01</td>\n      <td>7.612030e+03</td>\n      <td>1.401670e+05</td>\n      <td>6.009000e+01</td>\n      <td>3.521000e+00</td>\n      <td>0.000000e+00</td>\n      <td>0.000000e+00</td>\n      <td>0.000000e+00</td>\n      <td>0.000000e+00</td>\n      <td>0.000000e+00</td>\n      <td>1.404348e+02</td>\n      <td>7.567000e+00</td>\n    </tr>\n    <tr>\n      <th>75%</th>\n      <td>3.300000e+01</td>\n      <td>7.400000e+01</td>\n      <td>2.020586e+04</td>\n      <td>2.025050e+05</td>\n      <td>7.329000e+01</td>\n      <td>3.743000e+00</td>\n      <td>5.037950e+03</td>\n      <td>1.172000e+02</td>\n      <td>2.891000e+01</td>\n      <td>9.043400e+02</td>\n      <td>2.850100e+03</td>\n      <td>2.122360e+02</td>\n      <td>8.512000e+00</td>\n    </tr>\n    <tr>\n      <th>max</th>\n      <td>4.500000e+01</td>\n      <td>9.900000e+01</td>\n      <td>6.930994e+05</td>\n      <td>2.196220e+05</td>\n      <td>1.019500e+02</td>\n      <td>4.468000e+00</td>\n      <td>1.031850e+05</td>\n      <td>1.045195e+05</td>\n      <td>1.494833e+05</td>\n      <td>6.747485e+04</td>\n      <td>7.714481e+05</td>\n      <td>2.289765e+02</td>\n      <td>1.431300e+01</td>\n    </tr>\n  </tbody>\n</table>\n</div>"
     },
     "metadata": {},
     "output_type": "execute_result",
     "execution_count": 11
    }
   ],
   "source": [
    "#First merge train with stores\n",
    "df_train = pd.merge(train, stores, on='Store', how='left')\n",
    "df_train = pd.merge(df_train, feat, on='Store', how='left')\n",
    "#drop the duplicate holiday column\n",
    "df_train = df_train.drop([\"IsHoliday_y\"], axis=1)\n",
    "processed_train = df_train.fillna(0)\n",
    "processed_train.loc[processed_train['Weekly_Sales'] < 0.0,'Weekly_Sales'] = 0.0\n",
    "processed_train.loc[processed_train['MarkDown2'] < 0.0,'MarkDown2'] = 0.0\n",
    "processed_train.loc[processed_train['MarkDown3'] < 0.0,'MarkDown3'] = 0.0\n",
    "processed_train.describe()\n"
   ],
   "metadata": {
    "collapsed": false,
    "pycharm": {
     "name": "#%%\n",
     "is_executing": false
    }
   }
  },
  {
   "cell_type": "code",
   "execution_count": 12,
   "outputs": [
    {
     "name": "stdout",
     "text": [
      "<class 'pandas.core.frame.DataFrame'>\nInt64Index: 76725740 entries, 0 to 76725739\nData columns (total 17 columns):\nStore           int64\nDept            int64\nDate_x          object\nWeekly_Sales    float64\nIsHoliday_x     bool\nType            object\nSize            int64\nDate_y          object\nTemperature     float64\nFuel_Price      float64\nMarkDown1       float64\nMarkDown2       float64\nMarkDown3       float64\nMarkDown4       float64\nMarkDown5       float64\nCPI             float64\nUnemployment    float64\ndtypes: bool(1), float64(10), int64(3), object(3)\nmemory usage: 9.8+ GB\nNone\n"
     ],
     "output_type": "stream"
    }
   ],
   "source": [
    "print(processed_train.info())\n",
    "\n"
   ],
   "metadata": {
    "collapsed": false,
    "pycharm": {
     "name": "#%%\n",
     "is_executing": false
    }
   }
  }
 ],
 "metadata": {
  "language_info": {
   "codemirror_mode": {
    "name": "ipython",
    "version": 2
   },
   "file_extension": ".py",
   "mimetype": "text/x-python",
   "name": "python",
   "nbconvert_exporter": "python",
   "pygments_lexer": "ipython2",
   "version": "2.7.6"
  },
  "kernelspec": {
   "name": "conda-env-miner-py",
   "language": "python",
   "display_name": "Python [conda env:miner] *"
  },
  "pycharm": {
   "stem_cell": {
    "cell_type": "raw",
    "source": [],
    "metadata": {
     "collapsed": false
    }
   }
  }
 },
 "nbformat": 4,
 "nbformat_minor": 0
}