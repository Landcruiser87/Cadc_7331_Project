{
 "cells": [
  {
   "cell_type": "markdown",
   "source": [
    "# The Wonderful World of Walmart\n",
    "\n",
    "This notebook begins to explore the retail sales of Walmart over a time period of.  INSERT TIME PERIOD.\n",
    "We will be predicting sales price per store. \n",
    "\n",
    "The data source is below\n",
    "\n",
    "https://www.kaggle.com/c/walmart-recruiting-store-sales-forecasting/data\n",
    "\n",
    "First things first, lets import our librarieand take a peek at our data.\n"
   ],
   "metadata": {
    "collapsed": false
   }
  },
  {
   "cell_type": "code",
   "execution_count": 1,
   "outputs": [],
   "source": [
    "import pandas as pd\n",
    "\n",
    "train = pd.read_csv('Data/train.csv', sep = ',') # read in the training data \n",
    "feat = pd.read_csv('Data/features.csv', sep = ',') # Read in feature Data\n",
    "stores = pd.read_csv('Data/stores.csv', sep = ',') # read in the store data \n",
    "#df = train.merge(stores, on='Store', how='left').merge(feat, on='Store', how='left')\n",
    "#leaving the merge out for a second to look at individual file stats\n",
    "#Merging it yields 76 million rows\n",
    "\n"
   ],
   "metadata": {
    "collapsed": false,
    "pycharm": {
     "name": "#%%\n",
     "is_executing": false
    }
   }
  },
  {
   "cell_type": "markdown",
   "source": [
    "Now that we've got the data inputted, let's begin our EDA process by looking at our datatypes and\n",
    "overall shape of the data.\n"
   ],
   "metadata": {
    "collapsed": false
   }
  },
  {
   "cell_type": "code",
   "execution_count": 5,
   "outputs": [
    {
     "name": "stdout",
     "text": [
      "    Store Type    Size\n0       1    A  151315\n1       2    A  202307\n2       3    B   37392\n3       4    A  205863\n4       5    B   34875\n40     41    A  196321\n41     42    C   39690\n42     43    C   41062\n43     44    C   39910\n44     45    B  118221 \n\nNumber of missing store values:\n Size     0\nType     0\nStore    0\ndtype: int64 \n\n      Store        Date  Temperature  Fuel_Price  MarkDown1  MarkDown2  \\\n0         1  2010-02-05        42.31       2.572        NaN        NaN   \n1         1  2010-02-12        38.51       2.548        NaN        NaN   \n2         1  2010-02-19        39.93       2.514        NaN        NaN   \n3         1  2010-02-26        46.63       2.561        NaN        NaN   \n4         1  2010-03-05        46.50       2.625        NaN        NaN   \n8185     45  2013-06-28        76.05       3.639    4842.29     975.03   \n8186     45  2013-07-05        77.50       3.614    9090.48    2268.58   \n8187     45  2013-07-12        79.37       3.614    3789.94    1827.31   \n8188     45  2013-07-19        82.84       3.737    2961.49    1047.07   \n8189     45  2013-07-26        76.06       3.804     212.02     851.73   \n\n      MarkDown3  MarkDown4  MarkDown5         CPI  Unemployment  IsHoliday  \n0           NaN        NaN        NaN  211.096358         8.106      False  \n1           NaN        NaN        NaN  211.242170         8.106       True  \n2           NaN        NaN        NaN  211.289143         8.106      False  \n3           NaN        NaN        NaN  211.319643         8.106      False  \n4           NaN        NaN        NaN  211.350143         8.106      False  \n8185       3.00    2449.97    3169.69         NaN           NaN      False  \n8186     582.74    5797.47    1514.93         NaN           NaN      False  \n8187      85.72     744.84    2150.36         NaN           NaN      False  \n8188     204.19     363.00    1059.46         NaN           NaN      False  \n8189       2.06      10.88    1864.57         NaN           NaN      False   \n\nStructure of Feature:  (8190, 12) \n\nSummary Statistic:\n              Store  Temperature   Fuel_Price      MarkDown1      MarkDown2  \\\ncount  8190.000000  8190.000000  8190.000000    4032.000000    2921.000000   \nmean     23.000000    59.356198     3.405992    7032.371786    3384.176594   \nstd      12.987966    18.678607     0.431337    9262.747448    8793.583016   \nmin       1.000000    -7.290000     2.472000   -2781.450000    -265.760000   \n25%      12.000000    45.902500     3.041000    1577.532500      68.880000   \n50%      23.000000    60.710000     3.513000    4743.580000     364.570000   \n75%      34.000000    73.880000     3.743000    8923.310000    2153.350000   \nmax      45.000000   101.950000     4.468000  103184.980000  104519.540000   \n\n           MarkDown3     MarkDown4      MarkDown5          CPI  Unemployment  \ncount    3613.000000   3464.000000    4050.000000  7605.000000   7605.000000  \nmean     1760.100180   3292.935886    4132.216422   172.460809      7.826821  \nstd     11276.462208   6792.329861   13086.690278    39.738346      1.877259  \nmin      -179.260000      0.220000    -185.170000   126.064000      3.684000  \n25%         6.600000    304.687500    1440.827500   132.364839      6.634000  \n50%        36.260000   1176.425000    2727.135000   182.764003      7.806000  \n75%       163.150000   3310.007500    4832.555000   213.932412      8.567000  \nmax    149483.310000  67474.850000  771448.100000   228.976456     14.313000   \n\nCount of missing values:\n MarkDown2       5269\nMarkDown4       4726\nMarkDown3       4577\nMarkDown1       4158\nMarkDown5       4140\nUnemployment     585\nCPI              585\nIsHoliday          0\nFuel_Price         0\nTemperature        0\nDate               0\nStore              0\ndtype: int64 \n\n        Store  Dept        Date  Weekly_Sales  IsHoliday\n0           1     1  2010-02-05      24924.50      False\n1           1     1  2010-02-12      46039.49       True\n2           1     1  2010-02-19      41595.55      False\n3           1     1  2010-02-26      19403.54      False\n4           1     1  2010-03-05      21827.90      False\n421565     45    98  2012-09-28        508.37      False\n421566     45    98  2012-10-05        628.10      False\n421567     45    98  2012-10-12       1061.02      False\n421568     45    98  2012-10-19        760.01      False\n421569     45    98  2012-10-26       1076.80      False \n\nStructure of train:\n (421570, 5) \n\nSummary Statistic:\n                Store           Dept   Weekly_Sales\ncount  421570.000000  421570.000000  421570.000000\nmean       22.200546      44.260317   15981.258123\nstd        12.785297      30.492054   22711.183519\nmin         1.000000       1.000000   -4988.940000\n25%        11.000000      18.000000    2079.650000\n50%        22.000000      37.000000    7612.030000\n75%        33.000000      74.000000   20205.852500\nmax        45.000000      99.000000  693099.360000 \n\n"
     ],
     "output_type": "stream"
    }
   ],
   "source": [
    "#Store Data\n",
    "print(stores.head().append(stores.tail()), \"\\n\")\n",
    "print(\"Number of missing store values:\\n\", stores.isnull().sum().sort_values(ascending=False), \"\\n\")\n",
    "\n",
    "#Feature Data\n",
    "print(feat.head().append(feat.tail()), \"\\n\")\n",
    "print(\"Structure of Feature: \",feat.shape,\"\\n\")\n",
    "print(\"Summary Statistic:\\n\",feat.describe(),\"\\n\")\n",
    "print(\"Count of missing values:\\n\",feat.isnull().sum().sort_values(ascending=False),\"\\n\")\n",
    "\n",
    "#Training Data\n",
    "\n",
    "print(train.head().append(train.tail()),\"\\n\")\n",
    "print(\"Structure of train:\\n\",train.shape,\"\\n\")\n",
    "print(\"Summary Statistic:\\n\",train.describe(),\"\\n\")\n",
    "\n",
    "#df.info()\n",
    "#df.shape\n",
    "\n",
    "\n",
    "\n"
   ],
   "metadata": {
    "collapsed": false,
    "pycharm": {
     "name": "#%%\n",
     "is_executing": false
    }
   }
  }
 ],
 "metadata": {
  "language_info": {
   "codemirror_mode": {
    "name": "ipython",
    "version": 2
   },
   "file_extension": ".py",
   "mimetype": "text/x-python",
   "name": "python",
   "nbconvert_exporter": "python",
   "pygments_lexer": "ipython2",
   "version": "2.7.6"
  },
  "kernelspec": {
   "name": "conda-env-miner-py",
   "language": "python",
   "display_name": "Python [conda env:miner] *"
  },
  "pycharm": {
   "stem_cell": {
    "cell_type": "raw",
    "source": [],
    "metadata": {
     "collapsed": false
    }
   }
  }
 },
 "nbformat": 4,
 "nbformat_minor": 0
}